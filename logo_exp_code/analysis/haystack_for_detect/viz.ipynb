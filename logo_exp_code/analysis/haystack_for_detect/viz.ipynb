{
 "cells": [
  {
   "cell_type": "code",
   "execution_count": 1,
   "metadata": {},
   "outputs": [
    {
     "name": "stdout",
     "output_type": "stream",
     "text": [
      "\u001b[4m\u001b[36mModelZipper is ready for launch🚀 | Current Version🦄 >>> 0.2.7 <<< | AOE Time🕒 2024-06-16 00:17:57\u001b[0m\n"
     ]
    },
    {
     "name": "stderr",
     "output_type": "stream",
     "text": [
      "The model was loaded with use_flash_attention_2=True, which is deprecated and may be removed in a future release. Please use `attn_implementation=\"flash_attention_2\"` instead.\n",
      "You are attempting to use Flash Attention 2.0 with a model not initialized on GPU. Make sure to move the model to GPU after initializing it on CPU with `model.to('cuda')`.\n"
     ]
    },
    {
     "data": {
      "application/vnd.jupyter.widget-view+json": {
       "model_id": "49ee102f16df479098bd6019bd187e29",
       "version_major": 2,
       "version_minor": 0
      },
      "text/plain": [
       "Loading checkpoint shards:   0%|          | 0/4 [00:00<?, ?it/s]"
      ]
     },
     "metadata": {},
     "output_type": "display_data"
    },
    {
     "name": "stderr",
     "output_type": "stream",
     "text": [
      "Special tokens have been added in the vocabulary, make sure the associated word embeddings are fine-tuned or trained.\n"
     ]
    },
    {
     "data": {
      "text/plain": [
       "('/data/zecheng/hf_models/Llama-3-8B-Instruct-80K-QLoRA-Merged/tokenizer_config.json',\n",
       " '/data/zecheng/hf_models/Llama-3-8B-Instruct-80K-QLoRA-Merged/special_tokens_map.json',\n",
       " '/data/zecheng/hf_models/Llama-3-8B-Instruct-80K-QLoRA-Merged/tokenizer.json')"
      ]
     },
     "execution_count": 1,
     "metadata": {},
     "output_type": "execute_result"
    }
   ],
   "source": [
    "from modelzipper.tutils import *\n",
    "\n",
    "import transformers, peft\n",
    "\n",
    "model_name = \"/data/zecheng/hf_models/Meta-Llama-3-8B-Instruct\"\n",
    "adapter_model_path = \"/data/zecheng/hf_models/Llama-3-8B-Instruct-80K-QLoRA\"\n",
    "model_to_test = AutoModelForCausalLM.from_pretrained(model_name, use_flash_attention_2=\"flash_attention_2\", torch_dtype=\"auto\", rope_theta=200e6).eval()\n",
    "model_to_test = peft.PeftModel.from_pretrained(model_to_test, adapter_model_path, torch_dtype=\"auto\")\n",
    "model_to_test = model_to_test.merge_and_unload()\n",
    "tokenizer = AutoTokenizer.from_pretrained(model_name)\n",
    "model_to_test.save_pretrained(\"/data/zecheng/hf_models/Llama-3-8B-Instruct-80K-QLoRA-Merged\")\n",
    "tokenizer.save_pretrained(\"/data/zecheng/hf_models/Llama-3-8B-Instruct-80K-QLoRA-Merged\")\n"
   ]
  },
  {
   "cell_type": "code",
   "execution_count": 2,
   "metadata": {},
   "outputs": [
    {
     "data": {
      "application/vnd.jupyter.widget-view+json": {
       "model_id": "7e68157682864cdf92fdf79e0319d096",
       "version_major": 2,
       "version_minor": 0
      },
      "text/plain": [
       "Loading checkpoint shards:   0%|          | 0/4 [00:00<?, ?it/s]"
      ]
     },
     "metadata": {},
     "output_type": "display_data"
    }
   ],
   "source": [
    "model = transformers.AutoModelForCausalLM.from_pretrained(\"/data/zecheng/hf_models/Llama-3-8B-Instruct-80K-QLoRA-Merged\").eval()"
   ]
  }
 ],
 "metadata": {
  "kernelspec": {
   "display_name": "zecheng",
   "language": "python",
   "name": "python3"
  },
  "language_info": {
   "name": "python",
   "version": "3.1.-1"
  }
 },
 "nbformat": 4,
 "nbformat_minor": 2
}
