{
 "cells": [
  {
   "cell_type": "code",
   "execution_count": 1,
   "metadata": {},
   "outputs": [
    {
     "name": "stderr",
     "output_type": "stream",
     "text": [
      "/data/anaconda3/envs/zecheng/lib/python3.10/site-packages/tqdm/auto.py:21: TqdmWarning: IProgress not found. Please update jupyter and ipywidgets. See https://ipywidgets.readthedocs.io/en/stable/user_install.html\n",
      "  from .autonotebook import tqdm as notebook_tqdm\n"
     ]
    },
    {
     "name": "stdout",
     "output_type": "stream",
     "text": [
      "\u001b[4m\u001b[36mModelZipper is ready for launch🚀 | Current Version🦄 >>> 0.2.7 <<< | AOE Time🕒 2024-07-07 17:57:40\u001b[0m\n"
     ]
    }
   ],
   "source": [
    "from modelzipper.tutils import *"
   ]
  },
  {
   "cell_type": "code",
   "execution_count": 9,
   "metadata": {},
   "outputs": [],
   "source": [
    "data = auto_read_data(\"/data/zecheng/data/long-llm/needle/ours/final_needle_data_1600.jsonl\")"
   ]
  },
  {
   "cell_type": "code",
   "execution_count": 16,
   "metadata": {},
   "outputs": [
    {
     "name": "stdout",
     "output_type": "stream",
     "text": [
      "1600\n",
      "\u001b[36mjsonl file saved successfully!\u001b[0m\n",
      "\u001b[35mjsonl file saved successfully!\u001b[0m\n",
      "\u001b[34mjsonl file saved successfully!\u001b[0m\n",
      "\u001b[36mjsonl file saved successfully!\u001b[0m\n",
      "\u001b[34mjsonl file saved successfully!\u001b[0m\n",
      "\u001b[30mjsonl file saved successfully!\u001b[0m\n",
      "\u001b[34mjsonl file saved successfully!\u001b[0m\n",
      "\u001b[33mjsonl file saved successfully!\u001b[0m\n"
     ]
    }
   ],
   "source": [
    "def build_query_data(context, prompt):\n",
    "    description = \"There is an important infomation hidden in the following context. Find the information and memorize it. I will quiz you about the important information there.\\n\"\n",
    "    template = f\"{description} {context} {prompt}\"\n",
    "    return template\n",
    "\n",
    "\n",
    "def build_evidence_data(context, prompt):\n",
    "    description = \"There is an important infomation hidden in the following context. Find the information and memorize it. I will quiz you about the important information there.\"\n",
    "    template = f\"{description}\\n{context}\\nPlease answer the question: {prompt}\"\n",
    "    return template\n",
    "\n",
    "evidence_contexts = []\n",
    "for item in data:\n",
    "    ids, context, needle, needle_chunk, question, answer = item[\"ids\"], item[\"context\"], item[\"needle\"], item[\"needle_chunk\"], item[\"question\"], item[\"answer\"]\n",
    "    evidence_context = \" \".join(context)\n",
    "        \n",
    "    evidence_context = build_evidence_data(evidence_context, question)\n",
    "    evidence_contexts.append(\n",
    "        {\n",
    "            \"evidence_contexts\": evidence_context,\n",
    "            \"needle_chunk\": needle_chunk,\n",
    "            \"label\": answer,\n",
    "            \"ids\": ids, \n",
    "            \"context\": context,\n",
    "            \"needle\": needle,\n",
    "        }\n",
    "    )\n",
    "print(len(evidence_contexts))\n",
    "\n",
    "\n",
    "for i in range(8):\n",
    "    chunked_evidence_contexts = evidence_contexts[i*200:(i+1)*200]\n",
    "    if os.path.exists(f\"/data/zecheng/data/processed_project/mix_chunks_v3/chunk_single_qa_{i}.jsonl\"):\n",
    "        os.remove(f\"/data/zecheng/data/processed_project/mix_chunks_v3/chunk_single_qa_{i}.jsonl\")\n",
    "    auto_save_data(chunked_evidence_contexts, f\"/data/zecheng/data/processed_project/mix_chunks_v3/chunk_single_qa_{i}.jsonl\")\n",
    "\n",
    "# auto_save_data(evidence_contexts, \"/data/zecheng/data/processed_project/chunk_single_qa.jsonl\")"
   ]
  },
  {
   "cell_type": "code",
   "execution_count": 15,
   "metadata": {},
   "outputs": [
    {
     "data": {
      "text/plain": [
       "\"ush you to overhire.  Instead you'll be compelled to\\nseek growth in other ways. For example, by doing\\nthings that don't scale, or by\\nPlease answer the question: What does a new report from WMO shows ?\""
      ]
     },
     "execution_count": 15,
     "metadata": {},
     "output_type": "execute_result"
    }
   ],
   "source": [
    "evidence_contexts[0]['evidence_contexts'][-200:]"
   ]
  },
  {
   "cell_type": "code",
   "execution_count": 17,
   "metadata": {},
   "outputs": [],
   "source": [
    "data = auto_read_data(\"/data/zecheng/data/processed_project/mix_chunks_v3/chunk_single_qa_1.jsonl\")"
   ]
  },
  {
   "cell_type": "code",
   "execution_count": 19,
   "metadata": {},
   "outputs": [
    {
     "data": {
      "text/plain": [
       "'ngels is\\ngood news for founders.  And not just for the obvious reason that\\nmore competition for deals means better terms.  The whole shape of\\ndeals is changing.One of the biggest differences between angels and VCs is the amount\\nof\\nPlease answer the question: What is the best thing to do in Beijing ?'"
      ]
     },
     "execution_count": 19,
     "metadata": {},
     "output_type": "execute_result"
    }
   ],
   "source": [
    "data[0]['evidence_contexts'][-300:]"
   ]
  }
 ],
 "metadata": {
  "language_info": {
   "name": "python"
  }
 },
 "nbformat": 4,
 "nbformat_minor": 2
}
