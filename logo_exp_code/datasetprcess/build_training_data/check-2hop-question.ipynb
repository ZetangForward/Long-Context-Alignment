{
 "cells": [
  {
   "cell_type": "code",
   "execution_count": 9,
   "metadata": {},
   "outputs": [],
   "source": [
    "import datasets\n",
    "from datasets import concatenate_datasets\n",
    "from tqdm import tqdm\n",
    "import spacy\n",
    "import json\n",
    "from itertools import groupby, combinations\n",
    "import re\n",
    "from modelzipper.tutils import *\n",
    "import itertools\n",
    "import multiprocessing\n",
    "import threading"
   ]
  },
  {
   "cell_type": "code",
   "execution_count": 10,
   "metadata": {},
   "outputs": [],
   "source": [
    "all_data = auto_read_data(\"/data/zecheng/data/process_wiki_document/one_hop/merged_data/processed_data_2.jsonl\")\n",
    "combine_index = datasets.load_from_disk(\"/data/zecheng/data/process_wiki_document/one_hop/merged_data/combine_data_hf_2\")\n",
    "\n",
    "all_data_dict = {}\n",
    "for item in all_data:\n",
    "    all_data_dict[item.pop(\"id\")] = item"
   ]
  },
  {
   "cell_type": "code",
   "execution_count": null,
   "metadata": {},
   "outputs": [],
   "source": [
    "nlp = spacy.load(\"en_core_web_lg\")\n",
    "\n",
    "def extract_entities(text):  # extract all entities in a text\n",
    "    doc = nlp(text, disable=[\"tagger\", \"parser\"])\n",
    "    return set(e.text for e in doc.ents)\n",
    "\n",
    "def judge_2hop_pair(prefix_q, prefix_a, suffix_q, suffix_a):\n",
    "    prefix_q_e, prefix_a_e = extract_entities(prefix_q), extract_entities(prefix_a)\n",
    "    suffix_q_e, suffix_a_e = extract_entities(suffix_q), extract_entities(suffix_a)\n",
    "    if prefix_a_e & suffix_q_e and suffix_a_e.isdisjoint(prefix_q_e):\n",
    "        return True\n",
    "    return False\n",
    "\n",
    "\n",
    "def two_hop_judger(group_ids, meta_data, selected_cases=2):\n",
    "    results = []\n",
    "    combinations_list = list(itertools.permutations(group_ids, selected_cases))\n",
    "    for group in combinations_list:\n",
    "        prefix_id, suffix_id = group[0], group[1]\n",
    "        prefix_q, suffix_q = meta_data[prefix_id]['question'], meta_data[suffix_id]['question']\n",
    "        prefix_a, suffix_a = meta_data[prefix_id]['answer'], meta_data[suffix_id]['answer']\n",
    "        if judge_2hop_pair(prefix_q, prefix_a, suffix_q, suffix_a):\n",
    "            results.append((prefix_id, suffix_id))\n",
    "    return tuple(results)\n",
    "\n",
    "def mp_process_item(item):\n",
    "    return (two_hop_judger(item[\"all_ref_ids\"], all_data_dict, 2), item[\"all_ref_ids\"])\n",
    "\n",
    "\"\"\"\n",
    "two_hop_raw_data = []\n",
    "\n",
    "with multiprocessing.Pool(processes=84) as pool:\n",
    "    results = list(tqdm(pool.imap(mp_process_item, combine_index), total=len(combine_index)))\n",
    "    two_hop_raw_data = []\n",
    "    for result in results:\n",
    "        two_hop_raw_data.append(result)\n",
    "\n",
    "print(\"finish\")\n",
    "print(len(two_hop_raw_data))\n",
    "\"\"\"\n",
    "\n",
    "all_data_dict[0]"
   ]
  },
  {
   "cell_type": "code",
   "execution_count": null,
   "metadata": {},
   "outputs": [],
   "source": [
    "processed_sample = []\n",
    "tmp = set()\n",
    "for sample in two_hop_raw_data:\n",
    "    if sample[0]:\n",
    "        for selected_pair in sample[0]:\n",
    "            if selected_pair not in tmp:\n",
    "                tmp.add(selected_pair)\n",
    "                processed_sample.append({\"prefix_id\": selected_pair[0], \"suffix_id\": selected_pair[1], \"all_ref_ids\": sample[1]})\n",
    "\n",
    "print(len(processed_sample))"
   ]
  },
  {
   "cell_type": "code",
   "execution_count": null,
   "metadata": {},
   "outputs": [],
   "source": [
    "final = []\n",
    "for id, sample in enumerate(processed_sample):\n",
    "    prefix_id, suffix_id = sample[\"prefix_id\"], sample[\"suffix_id\"]\n",
    "    prefix_q, prefix_a = all_data_dict[prefix_id][\"question\"], all_data_dict[prefix_id][\"answer\"]\n",
    "    suffix_q, suffix_a = all_data_dict[suffix_id][\"question\"], all_data_dict[suffix_id][\"answer\"]\n",
    "    final.append({\"id\": id, \"prefix_q\": prefix_q, \"prefix_a\": prefix_a, \"suffix_q\": suffix_q, \"suffix_a\": suffix_a, \"prefix_id\": prefix_id, \"suffix_id\": suffix_id, \"all_ref_ids\": sample[\"all_ref_ids\"]})\n",
    "\n",
    "print(len(final))\n",
    "final[0]"
   ]
  },
  {
   "cell_type": "code",
   "execution_count": null,
   "metadata": {},
   "outputs": [],
   "source": [
    "from volcenginesdkarkruntime import Ark\n",
    "import threading\n",
    "\n",
    "MODELS = {\n",
    "    \"doubao-lite-4k\": \"ep-20240618124048-xd5vm\",\n",
    "    \"doubao-lite-32k\": \"ep-20240618163533-tzxts\",\n",
    "    \"doubao-pro-4k\": \"ep-20240618125023-lkmzs\",\n",
    "    \"doubao-pro-32k\": \"ep-20240618163715-nmkbp\",\n",
    "}\n",
    "\n",
    "\n",
    "def create_prompt(prefix_q, prefix_a, suffix_q, suffix_a, prefix_id, suffix_id):\n",
    "    reference_1, reference_2 = all_data_dict[prefix_id], all_data_dict[suffix_id]\n",
    "\n",
    "    message1 = f\"I want to construct a two-hop question. Given the following two pieces of information, combine them to form a new natural language question according to the provided question, answer and the context. Only give me the new question and do not output any other words.\\n\\nQ1:\\nContext: {reference_1}\\nQuestion: {prefix_q}\\nAnswer: {prefix_a}\\n\\nQ2:\\nContext: {reference_2}\\nQuestion: {suffix_q}\\nAnswer: {suffix_a}\\n\\nConstruct a new question and answer pair that utilizes information from both Q1 and Q2 questions, answers and contexts. The new question should be between 10-40 words long and the answer to the new question should be the related to the answer to Q2. Show me the new question and answer pair in the following format\\n\\n###Q: new question ###A: new answer\\n\\nDo not output any other words.\"\n",
    "\n",
    "    message2 = f\"I want to construct a two-hop question. Given the following two pieces of information, combine them to form a new natural language question according to the provided question and answer. Only give me the new question and do not output any other words.\\n\\nQ1:\\n Question: {prefix_q}\\nAnswer: {prefix_a}\\n\\nQ2:\\n Question: {suffix_q}\\nAnswer: {suffix_a}\\n\\nConstruct a new question and answer pair that utilizes information from both Q1 and Q2 questions and answers. The new question should be between 10-40 words long and the answer to the new question should be the related to the answer to Q2. Show me the new question and answer pair in the following format\\n\\n###Q: new question ###A: new answer\\n\\nDo not output any other words.\"\n",
    "\n",
    "    return message1\n",
    "    \n",
    "def call_with_messages(client, model_id, user_query, max_attempts=2):\n",
    "    attempts = 0\n",
    "\n",
    "    while attempts < max_attempts:\n",
    "        try:\n",
    "            completion = client.chat.completions.create(\n",
    "                model=model_id,\n",
    "                messages=[\n",
    "                    {\"role\": \"user\", \"content\": user_query},\n",
    "                ],\n",
    "                max_tokens=1024,\n",
    "            )\n",
    "            return completion.choices[0].message.content\n",
    "        except Exception as e:\n",
    "            print(f\"Attempt {attempts + 1} failed: {e}\")\n",
    "            attempts += 1\n",
    "            if attempts < max_attempts:\n",
    "                time.sleep(10)  # sleep for 10 seconds before retrying\n",
    "            else:\n",
    "                print(\"Failed after maximum attempts.\")\n",
    "                return None\n",
    "\n",
    "\n",
    "def process_chunk(chunk, chunk_length, thread_id, model_id, client):\n",
    "    output_file = f\"/data/zecheng/data/process_wiki_document/two_hop/generated_QA_pairs_thread_{thread_id}.jsonl\"\n",
    "    log_file = f\"/data/zecheng/data/process_wiki_document/two_hop/logs/processing_log_thread_{thread_id}.log\"\n",
    "    with open(output_file, 'a') as f, open(log_file, 'a') as log_f:\n",
    "        with tqdm(total=chunk_length, desc=f\"Processing thread {thread_id}\") as pbar:\n",
    "            for sample in chunk:\n",
    "                user_message = create_prompt(sample[\"prefix_q\"], sample[\"prefix_a\"], sample[\"suffix_q\"], sample[\"suffix_a\"], sample[\"prefix_id\"], sample[\"suffix_id\"]) \n",
    "                response = call_with_messages(client=client, model_id=model_id, user_query=user_message)\n",
    "                if response is None:\n",
    "                    continue\n",
    "                else:  # has response\n",
    "                    sample[\"combined_qa\"] = response\n",
    "                    json_str = json.dumps(sample)\n",
    "                    # Write to output file\n",
    "                    f.write(json_str + '\\n')\n",
    "                    f.flush()\n",
    "                    # Write to log file\n",
    "                    log_f.write(f\"{sample['id']}\\n\")\n",
    "                    log_f.flush()\n",
    "                pbar.update(1)\n",
    "\n",
    "\n",
    "def split_data(data, n_splits):\n",
    "    chunk_size = len(data) // n_splits + 1\n",
    "    chunks = [data[i*chunk_size : (i+1)*chunk_size] for i in range(n_splits)]\n",
    "    return chunks\n",
    "\n",
    "testing_cases = final[:len(final)]\n",
    "# testing_cases = remain_cases\n",
    "client = Ark(api_key=\"ea28bf46-979c-49b9-b08a-92303bb99052\")\n",
    "model_name = \"doubao-pro-32k\"\n",
    "\n",
    "num_threads = 4\n",
    "data_splits = split_data(testing_cases, num_threads)\n",
    "threads = []\n",
    "\n",
    "for i in range(num_threads):\n",
    "    chunk_length = len(data_splits[i])\n",
    "    thread = threading.Thread(target=process_chunk, args=(data_splits[i], chunk_length, i, MODELS[model_name], client))\n",
    "    threads.append(thread)\n",
    "    thread.start()\n",
    "\n",
    "for thread in threads:\n",
    "    thread.join()\n",
    "\n",
    "\n",
    "\"\"\"\n",
    "testing_cases = final[:len(final)]\n",
    "client = Ark(api_key=\"ea28bf46-979c-49b9-b08a-92303bb99052\")\n",
    "model_name = \"doubao-pro-32k\"\n",
    "with open(\"/data/zecheng/data/process_wiki_document/two_hop/doubao_data.jsonl\", \"a\") as f, tqdm(total=len(testing_cases)) as pbar:\n",
    "    for item in testing_cases:\n",
    "        user_message = create_prompt(item[\"prefix_q\"], item[\"prefix_a\"], item[\"suffix_q\"], item[\"suffix_a\"], item[\"prefix_id\"], item[\"suffix_id\"]) \n",
    "        back_message = call_with_messages(client, MODELS[model_name], user_message)\n",
    "        item[\"combined_qa\"] = back_message\n",
    "        f.write(json.dumps(item) + \"\\n\")\n",
    "        pbar.update(1)\n",
    "\"\"\""
   ]
  },
  {
   "cell_type": "code",
   "execution_count": null,
   "metadata": {},
   "outputs": [],
   "source": [
    "tmp = auto_read_dir(\"/data/zecheng/data/process_wiki_document/two_hop/logs\")\n",
    "all_process_ids = []\n",
    "\n",
    "for file in tmp:\n",
    "    with open(file) as f:\n",
    "        for line in f:\n",
    "            all_process_ids.append(int(line.strip()))\n",
    "\n",
    "all_indexs = set(list(range(len(final))))\n",
    "remain_indexs = all_indexs - set(all_process_ids)\n",
    "print(len(remain_indexs))\n",
    "print(remain_indexs)"
   ]
  },
  {
   "cell_type": "code",
   "execution_count": null,
   "metadata": {},
   "outputs": [],
   "source": [
    "all_files = auto_read_dir(\"/data/zecheng/data/process_wiki_document/two_hop\")\n",
    "all_data = [auto_read_data(file) for file in all_files] \n",
    "all_data = [item for sublist in all_data for item in sublist]\n",
    "print(len(all_data))"
   ]
  },
  {
   "cell_type": "code",
   "execution_count": null,
   "metadata": {},
   "outputs": [],
   "source": [
    "all_data[0]"
   ]
  },
  {
   "cell_type": "code",
   "execution_count": null,
   "metadata": {},
   "outputs": [],
   "source": [
    "def process_twohopqa(item):\n",
    "    combined_qa = item['combined_qa']\n",
    "    if len(combined_qa.split(\"###\")) != 3:\n",
    "        return None\n",
    "    q, a = combined_qa.split(\"###\")[1][2:].strip(), combined_qa.split(\"###\")[2][2:].strip()\n",
    "    item[\"combined_question\"] = q\n",
    "    item[\"final_question\"] = a\n",
    "    return item\n",
    "\n",
    "final_data = []\n",
    "for item in all_data:\n",
    "    processed_item = process_twohopqa(item)\n",
    "    if processed_item:\n",
    "        final_data.append(processed_item)\n",
    "\n",
    "print(f\"all_data: {len(all_data)} | final_data: {len(final_data)}\")"
   ]
  },
  {
   "cell_type": "code",
   "execution_count": null,
   "metadata": {},
   "outputs": [],
   "source": [
    "final_data[0]"
   ]
  },
  {
   "cell_type": "code",
   "execution_count": null,
   "metadata": {},
   "outputs": [],
   "source": [
    "from collections import defaultdict\n",
    "import datasets\n",
    "transformed_data = defaultdict(list)\n",
    "\n",
    "for dic in final_data:\n",
    "    for key, value in dic.items():\n",
    "        transformed_data[key].append(value)\n",
    "\n",
    "transformed_data = dict(transformed_data)\n",
    "hf_dataset = datasets.Dataset.from_dict(transformed_data)\n",
    "hf_dataset.save_to_disk(\"/data/zecheng/data/process_wiki_document/two_hop/hf_datasets\")"
   ]
  },
  {
   "cell_type": "code",
   "execution_count": null,
   "metadata": {},
   "outputs": [],
   "source": [
    "import datasets\n",
    "\n",
    "data = datasets.load_from_disk(\"/data/zecheng/data/process_wiki_document/two_hop/hf_datasets\")\n",
    "\n",
    "print(data[1])\n",
    "print(data[2])"
   ]
  },
  {
   "cell_type": "markdown",
   "metadata": {},
   "source": [
    "#### Create Rejected / Chosen Pairs"
   ]
  },
  {
   "cell_type": "code",
   "execution_count": 19,
   "metadata": {},
   "outputs": [
    {
     "name": "stdout",
     "output_type": "stream",
     "text": [
      "dict_keys(['id', 'prefix_q', 'prefix_a', 'suffix_q', 'suffix_a', 'prefix_id', 'suffix_id', 'all_ref_ids', 'combined_question', 'all_ref_text', 'final_answer'])\n"
     ]
    },
    {
     "data": {
      "application/vnd.jupyter.widget-view+json": {
       "model_id": "dbf189e92dda4a1e8bc60b042ae48962",
       "version_major": 2,
       "version_minor": 0
      },
      "text/plain": [
       "Saving the dataset (0/1 shards):   0%|          | 0/878 [00:00<?, ? examples/s]"
      ]
     },
     "metadata": {},
     "output_type": "display_data"
    }
   ],
   "source": [
    "from pprint import pprint\n",
    "import datasets\n",
    "\n",
    "twohop_dataset = datasets.load_from_disk(\"/data/zecheng/data/process_wiki_document/two_hop/hf_datasets\")\n",
    "\n",
    "def reorder_ids(ids_list, prefix_id, suffix_id):\n",
    "    if prefix_id not in ids_list or suffix_id not in ids_list:\n",
    "        return ids_list \n",
    "    prefix_index = ids_list.index(prefix_id)\n",
    "    suffix_index = ids_list.index(suffix_id)\n",
    "    if prefix_index < suffix_index:\n",
    "        return ids_list\n",
    "    ids_list.remove(prefix_id)\n",
    "    suffix_index = ids_list.index(suffix_id)\n",
    "    ids_list.insert(suffix_index, prefix_id)\n",
    "    return ids_list\n",
    "\n",
    "def add_ref_text(item):\n",
    "    all_ref_ids = item[\"all_ref_ids\"]\n",
    "    prefix_id, suffix_id = item[\"prefix_id\"], item[\"suffix_id\"]\n",
    "    all_ref_ids = reorder_ids(all_ref_ids, prefix_id, suffix_id)\n",
    "    item[\"all_ref_ids\"] = all_ref_ids\n",
    "    all_ref_text = [all_data_dict[id][\"context\"] for id in all_ref_ids]\n",
    "    item[\"all_ref_text\"] = all_ref_text\n",
    "    item[\"final_answer\"] = item.pop(\"final_question\")\n",
    "    item.pop(\"combined_qa\")\n",
    "    return item\n",
    "\n",
    "new_twohop_dataset = twohop_dataset.map(add_ref_text, num_proc=16)\n",
    "pprint(new_twohop_dataset[0].keys())\n",
    "new_twohop_dataset.save_to_disk(\"/data/zecheng/data/process_wiki_document/two_hop/hf_dataset_step2\")"
   ]
  },
  {
   "cell_type": "code",
   "execution_count": 20,
   "metadata": {},
   "outputs": [
    {
     "data": {
      "text/plain": [
       "{'id': 840,\n",
       " 'prefix_q': 'What is the potential annual generating capacity from agricultural waste in Scotland for biogas?',\n",
       " 'prefix_a': 'It is estimated that 0.4 GW of generating capacity might be available from agricultural waste in Scotland.',\n",
       " 'suffix_q': 'What is the capacity of installed renewable electricity in Scotland at the end of 2015?',\n",
       " 'suffix_a': '7,723 megawatts (MW)',\n",
       " 'prefix_id': 7422,\n",
       " 'suffix_id': 7421,\n",
       " 'all_ref_ids': [7420, 7422, 7421, 7423],\n",
       " 'combined_question': 'How does the capacity of installed renewables in 2015 compare to potential tidal power in Scotland?',\n",
       " 'all_ref_text': ['in 1941, is thought by some to be an early example, with his pink or transparent costume. Writer Roy Thomas penned thought balloons that suggested Firebrand had been involved in a gay relationship with his sidekick and bodyguard Slugger Dunn, although these hints never moved beyond subtext. A more modern example is the violent vigilante superhero Midnighter. The Batman like Midnighter was shown as being in a relationship with the Superman like Apollo during their time as members of the superhero team The Authority. Midnighter and Apollo are now married and have an adopted daughter - Midnighter has gone on to star in his own title. In 2006, DC Comics could still draw widespread media attention by announcing a new, lesbian incarnation of the well known character Batwoman, even though openly lesbian minor characters such as Gotham City police officer Renee Montoya already existed in the franchise.\\nIn addition to true LGBT characters, there has been controversy over various homosexual interpretations of the most famous superhero comic book characters. Batman\\' s relationship with Robin has famously come under scrutiny, in spite of the majority of creators associated with the creator denying that the character is gay. Psychologist Fredric Wertham, who in Seduction of the Innocent asserted that\" Batman stories are psychologically homosexual\" , claimed to find a\" subtle atmosphere of homoeroticism which pervades the adventures of the mature\\' Batman\\' and his young friend\\' Robin\\' \" . It has also been claimed that Batman is interesting to gay audiences because\" he was one of the first fictional characters to be attacked on the grounds of his presumed homosexuality,\" and\" the 1960s TV series remains a touchstone of camp.\" Frank Miller has described the relationship between Batman and the Joker as a\" homophobic nightmare\" , he views the character as sublimating his sexual urges into crime fighting.\\nSome continue to play off the homosexual interpretations of Batman. One notable example occurred in 2000, when DC Comics refused to allow permission for the reprinting of four panels (from Batman # 79,92,105 and 139) to illustrate Christopher York\\' s paper All in the Family: Homophobia and Batman Comics in the 1950s. Another happened in the summer of 2005, when painter Mark Chamberlain displayed a number of watercolors depicting both Batman and Robin in suggestive and sexually explicit poses. DC threatened both artist and the Kathleen Cullen Fine Arts gallery with legal action if they did not cease selling the works and demanded all remaining art, as well as any profits derived from them.\\nMany of DC\\' s gay characters, such as Obsidian and Renee Montoya, were changed or essentially erased in The New 52 reboot. Meanwhile, others, such as Kate Kane, were given far less attention than before the reboot. In 2012 DC announced that an\" iconic\" character would now be gay in the new DC universe. It was then revealed that Alan Scott, the original Green Lantern was that character. This led to fan outcry because his status as\" iconic\" is debatable, and he does not actually exist in the mainstream DC universe. This also effectively meant that the already gay character, Obsidian, could not exist as he was Alan Scott\\' s child.\\n= = = Manga = = =\\nYaoi and Yuri (also known as Boys\\' Love and Girls\\' Love, respectively, as well as Shonen ai and Shojo ai in the West, although these are not used in Japan due to pedophilic undertones) are Japanese genres which have homosexual romance themes, across a variety of media. Yaoi and yuri have spread beyond Japan: both translated and original yaoi and yuri is now available in many countries and languages. The characters of yaoi and yuri do not tend to self identify as homosexual or bisexual. As with much manga and anime, SF and fantasy tropes and environments are common: For example, Ai no<unk>, a 1980s yaoi light novel series described as a\" magnum opus\" of the Boys Love genre, involves a science fictional caste system.<unk> has been described as being\" a wonderful sci fi series\" which does not have to rely on its yuri content to appeal to the audience.\\nYaoi has been criticised for stereotypical and homophobic portrayals of its characters, and failing to address gay issues. Homophobia, when it is presented as an issue at all, is used as a plot device to\" heighten the drama\" , or to show the purity of the leads\\' love. Matt Thorn has suggested that as BL is a romance narrative, having strong political themes may be a\" turn off\" to the readers. Critics state that the genre challenges heteronormativity via the\" queer\" bishonen.\\nThere is also a style of manga called Bara, which is typically written by gay men for a gay male adult audience. Bara often has more realistic themes than yaoi and is more likely to acknowledge homophobia and the taboo nature of homosexuality in Japan. While western commentators sometimes group bara and yaoi together, writers and fans consider them separate genres.\\n= = Film and television = =\\nIn general, speculative fiction on television and film has lagged behind literature in its portrayals of homosexuality. Sexual relationships in major speculative fiction franchises have generally been depicted as heterosexual in nature. Inter species and inter ethnic relationships have been commonly depicted, while homosexual relationships and transgender characters are more rare.\\n= = = Film = = =\\nLGBT characters in films began to appear more regularly only in the 1980s. Films in the late 1920s and early 1930s reflected the liberal attitudes of the day and could include sexual innuendos and references to homosexuality, but from the 1930s until 1968 the film industry in the US followed the Production Code. The code spelled out what was morally acceptable for a public audience; references to sexual\" perversions\" such as homosexuality were forbidden. Virtually all motion pictures produced in the United States adhered to the code, and similar censorship was common in other countries, for example an early version of the first lesbian vampire film Dracula\\' s Daughter, a film described in The Celluloid Closet as presenting\" homosexuality as a predatory weakness\" , was rejected by the British Board of Film Censors in 1935, who said in part\" . . . Dracula\\' s Daughter would require half a dozen. . . languages to adequately express its beastliness.\" . Horror author Anne Rice has named Dracula\\' s Daughter as a direct inspiration for her own homoerotic vampire fiction, naming a bar in her novel Queen of the Damned\" Dracula\\' s Daughter\" in honor of the film. Films produced under such censorship could only introduce homosexuality as a disguised undercurrent, and still flirted with controversy in doing so, such as in the cult horror film White Zombie.\\nThe less stringent rules of the post Hayes film industry allowed sexuality to be more open, and cinema as a whole became more sexually explicit from the 1980s in particular, but aimed to purely to entertain rather than exploring underlying sexual dynamics. Much of the sex in speculative fiction film is merely intended to titillate; a review of fantasy films identified 10 - 15 % as softcore<unk> but it remained rare to see gay characters in speculative fiction films. Horror films, that had sex as one of their major preoccupations, continued to be more leniently censored, due to the perception of being unserious and lightweight. Vampires in particular have been described as obvious erotic metaphors and as a result, numerous vampire films since the 1970s strongly imply or explicitly show lesbianism, following the inspiration of lesbian vampire story Carmilla. The prototypical Hollywood vampire, Dracula, was shown to be openly gay in the spoof film Does Dracula Suck? in 1969.\\nGay genre films remain rare, and science fiction films\\' inclusion of gay characters continues to relegate them to supporting roles, such as the\" stereotypical, limp<unk>, frantic homosexual\" minor character in the 1996 blockbuster Independence Day, a film whose main theme has been described as being the anxiety surrounding male friendships and homosexual panic. It is also interesting to note that the film\\' s director, Roland Emmerich, is openly gay. Still there are some curious cases like Cthulhu (2007) a horror / thriller film based on the works of H. P. Lovecraft, in which the main character is gay but it isn\\' t the main thing, although it is important in the development of the character\\' s psychology. The film is plagued with monsters and disturbing happenings. Also, in V for Vendetta there are two secondary characters - one gay, one lesbian - shown as victims of the totalitarian dystopia. 2012 saw the light of the epic Wachowskis + Tom Tykwer blockbuster, Cloud Atlas, featuring in one of the six stories a couple of gay characters.\\n= = = Television = = =\\nLGBT characters began appearing on television with increasing frequency only in the 1990s. The 1994 television science fiction show, Babylon 5 introduced a bisexual character, Susan Ivanova whose relationship with a fellow female telepath was revealed in season 2 (1995). Advocate magazine called this relationship out as the closest that the Star Trek franchise or any\" Star Trek clone,\" as he called the show, had come to a\" gay creature -- much less a gay human being.\" Babylon 5 continued to explore the state of same sex relationships in the future with the introduction of a male male marriage and subsequent honeymoon as cover for two of the main characters who were on a covert mission to a Mars colony in season 4.\\nThe Xena: Warrior Princess fantasy television series introduced its main characters, Xena and Gabrielle, as close companions; fan speculation about lesbian overtones led to them becoming lesbian icons, although the lesbian content remained at the subtext level. The series has been cited as\" trail blazing\" and breaking down barriers, allowing the production of subsequent programming such as Buffy the Vampire Slayer, which introduced a number of LGBT characters. The most famous is the major character, Willow and her partners Tara and Kennedy. Although praised for their\" healthy relationship\" and being the first lesbian relationship between major characters on prime time television, others criticised the use of witchcraft as a metaphor for lesbian sex. Tara\\' s death directly after reconciliatory sex with Willow caused an outcry among the LGBT community, who saw it as a\" homophobic cliche\" . Andrew Wells, a recurring villain and eventual ally, was strongly implied to be gay, although closeted. The series was influential on subsequent television speculative fiction, including Torchwood. The series won a number of LGBT themed awards, and was regarded as groundbreaking in its portrayal of gay youth.\\nTorchwood is a British science fiction drama television programme, part of the long running Doctor Who franchise, which began airing in 2006 on BBC Three. The series explores several themes in its narrative, in particular LGBT themes. Various characters are portrayed as sexually fluid; through those characters, the series examines homosexual and bisexual relationships. Although the nature of their sexual flexibility is not explicitly discussed, the characters offer varying perspectives on orientation, with The Sun describing all of the characters on Torchwood as bisexual. Series creator Russell T Davies has said that he hopes to defy audience expectations of<unk> characters:\" Without making it political or dull, this is going to be a very bisexual programme. I want to knock down the barriers so we can\\' t define which of the characters is gay. We need to start mixing things up, rather than thinking,\\' This is a gay character and he\\' ll only ever go off with men.\\' \" Davies has also described Jack Harkness as omnisexual:\" He\\' ll shag anything with a hole. Jack doesn\\' t categorise people: if he fancies you, he\\' ll do it with you.\"\\nThe inclusion of significant LGBT characters in modern speculative fiction television series has not been universal. For example, the Star Trek franchise\\' s lack of same sex relationships has long been a sore spot with LGBT fandom, some of whom have organised boycotts against the franchise to protest its failure to include LGBT characters. They also point out that Gene Roddenberry had made statements in later life favourable to acceptance of homosexuality and the portrayal of same sex relationships in Star Trek, but that the franchise\\' s coverage has remained meagre.\\nWithin the Star Trek canon, there have been no officially recognized LGBT characters in the television spin offs. The International Review of Science Fiction ran a feature entitled\" Prisoners of Dogma and Prejudice: Why There Are no G / L / B / T Characters in Star Trek: Deep Space 9\" However, gender identity has occasionally been treated as an\" issue\" within the new Star Trek series, to be dealt with as a theme in individual episodes, such as the 1995 Star Trek: Deep Space Nine episode\" Rejoined\" , which was the first episode of the show to feature a same sex relationship and romantic same sex kiss between women. Subsequently, the Star Trek franchise has portrayed a few same sex kisses, but always in the context of either the evil\" mirror universe\" (\" The Emperor\\' s New Cloak\" ) or body possession (\" Warlord\" and others), and often for comedic purposes between otherwise heterosexual characters. In a 2000 Fandom interview, Star Trek screenwriter Ronald D. Moore suggested that the reason why no gay characters existed in the television franchise was because someone wanted it that way, and no amount of support from fans, cast or crew was going to make any difference. In recent years, a few of the Star Trek novels and comics, which are officially licensed but not considered canon, have featured serious direct same sex relationships, including portraying a minor canon character as gay.\\nIn 2005 the television series Dante\\' s Cove premiered on the here! cable station. The series included both gay and lesbian couples dealing with supernatural situations in the coastal town of the same name. The following year, Syfy premiered the series Eureka. The series spotlighted a fictional town in Oregon that consisted almost entirely of geniuses. This included the town\\' s cafe owner Vincent, who also happened to be gay.\\nHBO brought then new series True Blood to the forefront of gay genre television, introducing a variety of omnisexual characters to the small screen in 2008 including: Lafayette Reynolds (played by<unk> Ellis), Jesus Velasquez (played by Kevin Alejandro), Tara Thornton (played by Rutina Wesley), Pam Swynford De Beaufort (played by Kristin Bauer van Straten), Eddie Gauthier (played by Stephen Root), Russell<unk> (played by Denis O\\' Hare), and Rev. Steve Newlin (played by Michael McMillian).\\nStargate Universe in 2009 became the first space based science fiction show to feature an openly gay character in its primary cast, which was\" Camille Wray\" played by Ming Na.\" Wray\" was also the first gay character in the franchise and the first primary lesbian Asian American character on primetime television. Wray\\' s storyline featured a committed long term relationship with her Earth bound partner Sharon (played by Reiko Aylesworth), the lifelike portrayal of which was very positively received by the lesbian community and press. Stargate Universe was cancelled after a two season run.\\nIn 2009 the series Warehouse 13 premiered on the Syfy cable network. The series later introduced a character named Steve Jinks, played by actor Aaron Ashmore, a gay government agent assigned to assist in the containment of bizarre artifacts.\\nIn 2010 a cable series prequel to Battlestar Galactica was introduced titled Caprica. The series highlighted a world in which same sex marriage was common. One of the central characters named Sam Adama, played by Sasha Roiz, had a husband named Larry, played by Julius Chapple.\\nIn 2011 the cable station Syfy premiered the series Being Human, an Americanized version of the previously released British series of the same name. A lesbian character named Emily Levison, played by actress Alison Louder, was introduced as the sister to one of the main characters. That same year the FX cable series American Horror Story highlighted gay ghost couple Chad Warwick and Patrick, played by Zachary Quinto and Teddy Sears. The HBO cable station premiered Game of Thrones, based on the book series of the same name. The series included gay couple Renly Baratheon and Loras Tyrell, played by actors Gethin Anthony and Finn Jones. MTV also premiered the cable series Teen Wolf that same year. One of the characters depicted is an out gay high school lacrosse player named Danny<unk>, played by<unk><unk>.\\nIn the American TV series The',\n",
       "  'capable of generating up to 10 GW although a more recent estimate suggests an upper limit of 1 9 GW. In March 2010 a total of ten sites in the area, capable of providing an installed capacity of 1 2 GW of tidal and wave generation were leased out by the Crown Estate. Several other tidal sites with considerable potential exist in the Orkney archipelago. Tidal races on the west coast at Kylerhea between Skye and Lochalsh, the Grey Dog north of<unk>, the Dorus Mor off Crinan and the Gulf of Corryvreckan also offer significant prospects.\\nIn August 2010 the Atlantis Resources Corporation\\' s AK 1000 turbine, which has 18 metre (59 ft) blades was unveiled at Invergordon. It is claimed to be the largest tidal turbine ever built and will be tested by EMEC off Eday. In October 2010<unk>, a consortium of Morgan Stanley, Atlantis Resources Corporation and International Power, received a 25 year operational lease from the Crown Estate for a 400 MW tidal power project in the Pentland Firth. However, in 2011 the plans were in difficulty after Norwegian partners<unk> pulled out of the project. In December 2014, Atlantis announced that onshore construction at the project site for connection to the electricity transmission grid would commence in January 2015. The first power to the national grid is expected to be delivered in 2016.\\nIn 2010 it was announced that 10 Hammerfest Strom<unk> Norwegian turbines, capable of generating 1 MW each, could be installed in the Sound of Islay and that the<unk> yard at Arnish had won a PS 2 million contract to build some of the structures\\' components. The following March this project, which will become the largest tidal array in the world, was approved by the Scottish Government with 10 planned tidal turbines predicted to generate enough power for over 5 000 homes. The Sound of Islay offers both high currents and shelter from storms. A single 1 MW<unk> was installed at EMEC off Eday, Orkney by the end of 2011.\\nThe\" world\\' s first community owned tidal power generator\" became operational in<unk> Sound off Yell, Shetland in early 2014. This 30 kW Nova Innovation device feeds into the local grid. At the opposite end of the country a 2010 consultants\\' report into the possibility of a scheme involving the construction of a Solway Barrage, possibly south of Annan, concluded that the plans\" would be expensive and environmentally sensitive.\" In 2013 an alternative scheme using the<unk> Renewable Energy spectral marine energy converter was proposed for a plan involving the use of a bridge along the route of an abandoned railway line between Annan and Bowness on Solway.\\n= = Biofuels = =\\n= = = Biodiesel = = =\\nVarious biodiesel schemes exist at present, and as with most renewables, interest is growing in the subject. Westray Development Trust operate a biodiesel vehicle fuelled by the residual vegetable oils from the Orkney archipelago fish and chip outlets. On a larger scale Argent Energy\\' s plant in Motherwell recycles tallow and used cooking oil to produce 50 000 000 litres (13 000 000 US gal) of biodiesel per annum.\\nA major benefit of biodiesel is lower carbon emissions, although the energy balance of liquid biofuels is a matter of controversy. Research is being undertaken into converting rapeseed oil into biodiesel, and the European biofuels directive intends to ensure that 5 75 % Europe\\' s transport fuel comes from renewable sources by 2010. However, there is only enough used vegetable oil in the UK to contribute 0 38 % of current road fuel demand and if all the arable land in the UK were turned over to biofuel crops this would still only satisfy 22 % of the existing requirement for road transport. Serious concerns regarding the ethics of growing biodiesel in developing countries and importing the fuel to Europe have been raised on the grounds that they may replace much needed food crops. Converting any mainstream transport system to a renewable one also involves the conundrum that for consumers to use it the infrastructure must be in place, but high levels of use may be required to finance the infrastructure. Developments are thus slow at present and<unk> powered vehicles very much the exception.\\nDue to the relatively short growing season for sugar producing crops, ethanol is not commercially produced as a fuel in Scotland at present. However, there are encouraging developments in cellulosic decomposition that might enable grass or tree crops to be used to this end in future and which may prove to have lower net carbon emissions than other production techniques.\\n= = =<unk>, anaerobic digestion and landfill gas = = =\\n<unk>, or landfill gas, is a biofuel produced through the intermediary stage of anaerobic digestion consisting mainly of 45 - 90 % biologically produced methane and carbon dioxide. In early 2007 a thermophilic anaerobic digestion facility was commissioned in Stornoway in the Western Isles. The Scottish Environment Protection Agency (SEPA) and the Renewable Energy Association are also leading the way towards the establishment of a<unk> standard to facilitate the use of solid outputs from<unk> on land. Anaerobic digestion and mechanical biological treatment facilities have been planned at a number of other locations in Scotland, such as Westray.\\nIt has been recognised that biogas (mainly methane) - produced from the anaerobic digestion of organic matter - is potentially a valuable and prolific feedstock. It is estimated that 0 4 GW of generating capacity might be available from agricultural waste in Scotland. The Scottish Executive and SEPA has funded seven small scale farm trial plants with the British anaerobic digestion company<unk> in Southwest Scotland. Landfill sites have the potential for a further 0 07 GW with sites such as the Avondale Landfill in Falkirk already utilising their potential.\\n= = = Solid biomass = = =\\nA 2007 report concluded that wood fuel exceeded hydroelectric and wind as the largest potential source of renewable energy. Scotland\\' s forests, which made up 60 % of the UK resource base, were forecast to be able to provide up to 1 million tonnes of wood fuel per annum. The biomass energy supply in Scotland was forecast to reach 450 MW or higher, (predominantly from wood), with power stations requiring 4 500 - 5 000 oven dry tonnes per annum per megawatt of generating capacity. However a 2011 Forestry Commission and Scottish government follow up report concluded that:\" . . . there is no capacity to support further large scale electricity generation biomass plants from the domestic wood fibre resource.\" A plan to build in Edinburgh a 200 MW biomass plant which would have imported 83 % of its wood, was withdrawn by Forth Energy in 2012. The energy company<unk> has constructed a 44 MW biomass power station at Lockerbie using locally sourced crops while the smaller EPR Westfield power plant in Fife produces 9 8 MW of output using chicken litter as fuel. The Scottish Executive and the Forestry Commission issued a Scottish Biomass Action Plan in 2007. The Scottish Government set up the Scottish Biomass Support Scheme in 2006 with a PS 7 5 million grant, later increased to PS 10 5 million, to support biomass energy. PS 6 million of grants were drawn down by the time the scheme finished in March 2008 and a 2009 review of results concluded that the scheme had\" . . . achieved limited success against its strategic aims objectives.\" A 2007 article by Renew Scotland claimed that automatic wood pellet boilers could be as convenient to use as conventional central heating systems. These boilers might be cheaper to run and, by using locally produced wood fuel, could try to be as carbon neutral as possible by using little energy for transportation.\\nThere is also local potential for energy crops such as short rotation willow or poplar coppice, miscanthus energy grass, agricultural wastes such as straw and manure, and forestry residues. These crops could provide 0 8 GW of generating capacity.\\n= = Micro systems = =\\nThe Energy Savings Trust has estimated that micro generation could provide a significantly increased proportion of the UK\\' s electricity demand by 2050 although only a fraction of this would come from renewable sources. The current Scottish output is negligible. In May 2006 the then Communities Minister Malcolm Chisholm launched a Planning Advice Note aimed at promoting micro renewables. Small scale\\'<unk>\\' projects, which use wind turbines to power electrical storage heaters directly, have proven to be successful in remoter rural areas; as have various other local schemes such as air source heat pumps.\\nWhisky distilleries may have a locally important part to play. Caithness Heat and Power have announced plans to tackle fuel poverty in Wick by utilising a wood chip CHP scheme in partnership with the Old Pulteney Distillery. On the island of Islay, a swimming pool is heated using waste heat from the Bowmore distillery. In Edinburgh, Tynecastle High School, due to be completed in 2010, will be heated by waste heat from the neighbouring North British Distillery. In 2009 the Diageo Cameron Bridge distillery announced plans for a PS 65 million facility to generate energy from the spent\" wash\" created in the manufacturing process, which will aim to replace 95 % of the plan\\' s existing fossil fuel use.\\nThere are also a growing number of micro hydro systems on smaller watercourses, especially in more remote rural locations.\\nThe Inner Hebrides island Eigg is not connected to the National Grid, and has an integrated renewable power supply with wind, hydro and solar and battery storage, and diesel backup (which is rarely used).\\n= = = Solar energy = = =\\nDespite Scotland\\' s relatively low level of sunshine hours, solar thermal panels can work effectively as they are capable of producing hot water even in cloudy weather. The technology was developed in the 1970s and is well established with various installers in place, although AES Solar based in Forres (who provided the panels for the Scottish Parliament building) are Scotland\\' s only manufacturer.\\nSince the introduction of feed in tariffs there has been a growth in the volume of installed photovoltaic panels, which generate electricity. In 2004, the largest installation in Scotland was a 21<unk> system at the Sir E. Scott secondary school in Tarbert, Harris although larger systems have been completed since then. The UK\\' s practicable resource is estimated at 7 2 TWh per annum, which in the Scottish context is the approximate equivalent of 70 MW or less of installed capacity.\\nThe\" road energy system\" uses water pipes buried beneath a layer of tarmac. In the summer, the dark asphalt is heated by the sun which in turn heats the water in the pipes. This water can be stored in an underground aquifer and the heat extracted in winter using a heat pump. The system can be used to warm or cool down roads, keeping them ice free and / or preventing softening due to overheating. Alternatively, the stored energy can be used for cooling buildings. The system was developed in the Netherlands and has been licensed by Ullapool based Invisible Energy Systems, who have installed the technology in their car park.\\n= = = Geothermal energy = = =\\nGeothermal energy is obtained by tapping the heat of the earth itself. Most systems in Scotland provide heating through a ground source heat pump which brings energy to the surface via shallow pipe works. An example is the Glenalmond Street project in<unk>, which uses a combination of solar and geothermal energy to heat 16 houses. Water in a coal mine 100 metres (328 ft) below ground level is heated by geothermal energy and maintained at a temperature of about 12 deg C (54 deg F) throughout the year. The warmed water is raised and passed through a heat pump, boosting the temperature to 55 deg C (131 deg F), and is then distributed to the houses providing heating to radiators.\\nAlthough the pumps may not be powered from renewable sources, up to four times the energy used can be recovered. Installation costs can vary from PS 7 000 to PS 10 000, and grants may be available from the Scottish Community and Householders Renewables Initiative operated by Community Energy Scotland for domestic properties up to a maximum of PS 4 000. Perhaps up to 7 6 TWh of energy is available on an annual basis from this source.\\nThere is also potential for geothermal energy production from decommissioned oil and gas fields.\\n= = Other means of reducing carbon emissions = =\\nIt is clear that if carbon emissions are to be reduced, a combination of increased production from renewables and decreased consumption of energy in general and fossil fuels in particular will be required. On the latter front, Gordon Brown, the then UK Chancellor of the Exchequer, announced in November 2006 that within a decade all new houses would have to be\\' zero carbon\\' . A variety of other options exist, most of which may affect development of renewable technologies even if they are not means of producing energy from renewable sources themselves.\\n= = = Other renewable options = = =\\nVarious other ideas for renewable energy in the early stages of development, such as ocean thermal energy conversion, deep lake water cooling, and blue energy, have received little attention in Scotland, presumably because the potential is so significant for less speculative technologies.\\n= = = Carbon offsetting = = =\\nCarbon offsetting involves individuals or organisations compensating for their use of fossil fuels by making payments to projects that aim to neutralise the effect of these carbon emissions. Although the idea has become fashionable, the theory has received serious criticism of late.\\nNonetheless, a credible option may be to plant trees within the local bioregion and maintain the forest on a permanent basis, thus locking up carbon produced by burning fossil fuels. In British growing conditions this method can compensate for carbon at a rate of 200 tonnes per square kilometre (0 89 tons / acre) planted over a 100 year period. Thus a 4 square kilometre (988 acre) plantation could uptake 200 tonnes (220 tons) of carbon over twenty five years. This is the equivalent of 10 000 tonnes (11 000 short tons) of carbon dioxide. The weaknesses of the approach include uncertainty as to whether the planting might have occurred anyway and who, in the future, will ensure permanence. However, there is likely to be a greater level of credibility inherent in a nearby and visible scheme than in a far distant one.\\n= = = Challenges and opportunities offered by non renewables = = =\\nThe following technologies are means of reducing the effect of carbon emissions and form an important aspect of the energy debate in Scotland and are included here for completeness. Their effect is likely to influence the future direction of commercial renewable energy, but they are not renewable forms of energy production themselves.\\nCarbon sequestration: Also known as carbon capture and storage, this technology involves the storage of carbon dioxide (CO2) that is a by product of industrial processes through its injection into oil fields. It is not a form of renewable energy production, but it may be a way to significantly reduce the effect of fossil fuels whilst renewables are commercialised. It may also be an intermediate step towards a\\' hydrogen economy\\' (see below), which could either enable further renewable development or conceivably out compete it. The technology has been successfully pioneered in Norway but is still a relatively untried concept.\\n<unk> coal\\' technology: It has been estimated that it will be 2020 to 2025 before any commercial scale clean coal power stations (coal burning power stations with carbon capture and sequestration) are widely adopted. Moreover, some have criticised the clean coal approach and it is at best a means of ameliorating carbon emissions. It is not a form of renewable energy production, although like carbon sequestration it offers a significant commercial challenge to renewable developments. In 2009 a licence to test underground coal<unk> technology in Fife was granted to Thornton New Energy. However, a plan to build a new\" clean coal\" power station at Hunterston collapsed in 2009 after financial backing was withdrawn.\\nNuclear power: Renewable energy as a concept generally excludes nuclear power although this stance has been challenged.\\nIncineration: There is a successful waste to energy incineration plant at Lerwick in Shetland which burns 22 000 tonnes (24 250 tons) of waste every year and provides district heating to over 600 customers. Although such plants generate carbon emissions through the combustion of the biological material and plastic wastes (which derive from fossil fuels), they also reduce the damage done to the atmosphere from the creation of methane in landfill sites. This is a much more damaging greenhouse gas than the carbon dioxide the burning process produces, although other systems which do not',\n",
       "  '<s> = Renewable energy in Scotland =\\nThe production of renewable energy in Scotland is an issue that has come to the fore in technical, economic, and political terms during the opening years of the 21st century. The natural resource base for renewable energy is extraordinary by European, and even global standards, with the most important potential sources being wind, wave, and tide.\\nAt the end of 2015, there was 7 723 megawatts (MW) of installed renewable electricity capacity in Scotland, an increase of 5 5 % (or 406 MW) from the end of 2014. Renewable electricity generation in Scotland was 21 983 GWh in 2015, up 15 2 % on 2014. 57 7 per cent of Scotland\\' s electricity came from renewables in 2015. Scottish renewable generation makes up approximately 26 4 % of total UK renewable generation (down from 32 % in 2014). In 2014, Scotland exported over 24 per cent of generation.\\nContinuing improvements in engineering and economics are enabling more of the renewable resources to be utilised. Fears regarding peak oil and climate change have driven the subject high up the political agenda and are also encouraging the use of various biofuels. Although the finances of many projects remain either speculative or dependent on market incentives, it is probable that there has been a significant, and in all likelihood long term change, in the underpinning economics.\\nIn addition to planned increases in large scale generating capacity and<unk> using renewable sources, various related schemes to reduce carbon emissions are being researched. Although there is significant support from the public, private and community led sectors, concerns about the effect of the technologies on the natural environment have been expressed. There is also an emerging political debate about the relationship between the siting, and the ownership and control of these widely distributed resources.\\n= = Realisation of the potential = =\\nThe natural resource base for renewables is extraordinary by European, and even global standards. In addition to an existing installed capacity of 1 3<unk> (GW) of hydro electric schemes, Scotland has an estimated potential of 36 5 GW of wind and 7 5 GW of tidal power, 25 % of the estimated total capacity for the European Union and up to 14 GW of wave power potential, 10 % of EU capacity. The renewable electricity generating capacity may be 60 GW or more, considerably greater than the existing capacity from all Scottish fuel sources of 10 3 GW. Scotland exceeded its renewable energy target, set in 2007, for 31 % of total power generation coming from renewables by 2011, and the 2020 target for the renewable share of total electricity generation has been raised from 50 % to 80 %.\\nIn January 2006 the total installed electrical generating capacity from all forms of renewable energy was less than 2 GW, about a fifth of the total electrical production. By January 2007 wind power capacity, which has been growing rapidly, reached 1 GW capacity, and the total for renewables had grown to over 2 3 GW. By August 2009 wind power capacity was a fraction short of 1 5 GW and total renewables capacity had reached over 3 1 GW. By mid 2011 these figures were 2 76 GW and 4 6 GW respectively.\\nIn 2012, over 40 per cent of Scotland\\' s electricity came from renewable energy, and Scotland contributed almost 40 per cent of the UK\\' s renewables output. At the end of 2012, there was 5 801 megawatts (MW) of installed renewables electricity capacity in Scotland, an increase of 20 95 per cent (1 005 MW) on the end of 2011. Renewable electricity generation in 2012 was a record high at 14 756 GWh - an increase of 7 3 per cent on 2011, the previous record year for renewables output. The bulk of electricity production is derived from gas and oil. 2002 figures used in RSPB Scotland et al. (2006) are gas (34 %), oil (28 %), coal (18 %) and nuclear (17 %), with renewables 3 % (principally hydro electric), prior to the substantial growth in wind power output. It should be borne in mind that electricity production is only part of the overall energy use budget. In 2002, Scotland consumed a total of 175<unk> hours (TWh) of energy in all forms, some 2 % less than in 1990. Of this, only 20 % was consumed in the form of electricity by end users, the great majority of energy utilised being from the burning of oil (41 %) and gas (36 %).\\nThe renewable energy industry supports more than 11 500 jobs in Scotland, according to a 2013 study by Scottish Renewables. However a 2011 study by 4 Consulting calculated that there was probably a small net loss in jobs in Scotland from government support for renewable energy. They estimated that the offshore wind industry might create between 300 - 2 200 long term jobs by 2020. With 20 GW of renewable energy projects in the pipeline, the sector has the potential to grow quickly in the years ahead creating more jobs in the region. Glasgow, Fife and Edinburgh are key centres of offshore wind power development, and the emerging wave power and tidal power industries are centred around the Highlands and Islands. Rural job creation is being supported by bioenergy systems in areas such as Lochaber, Moray and Dumfries and Galloway.\\nScotland also has significant quantities of fossil fuel deposits, including 62 4 % of the EU\\' s proven reserves of oil, 12 5 % of the EU\\' s proven reserves of gas and 69 % of UK coal reserves. Nonetheless, the Scottish Government has set ambitious targets for renewable energy production. In 2005 the aim was for 18 % of Scotland\\' s electricity production to be generated by renewable sources by 2010, rising to 40 % by 2020. In 2007 this was increased to 50 per cent of electricity from renewables by 2020, with an interim target of 31 per cent by 2011. The following year new targets to reduce overall greenhouse gas emissions by 80 % by 2050 were announced and then confirmed in the 2009 Climate Change Delivery Plan.<unk> Smith, director of the Sustainable Development Commission in Scotland said\" Governments across the world are shying away from taking the necessary action. The Scottish Government must be commended for its intention to lead the way\" .\\nAn important reason for this ambition is growing international concern about human induced climate change. The Royal Commission on Environmental Pollution\\' s proposal that carbon dioxide emissions should be reduced by 60 % was incorporated into the UK government\\' s 2003 Energy White Paper. The 2006 Stern Review proposed a 55 % reduction by 2030. The recent Intergovernmental Panel on Climate Change\\' s Fourth Assessment Report has further increased the profile of the issue.\\n= = Hydro electric power = =\\nScotland has 85 % of the UK\\' s hydro electric energy resource, much of it developed by the North of Scotland Hydro Electric Board in the 1950s. The\" Hydro Board\" , which brought\" power from the glens\" , was a nationalised industry at the time although it was privatised in 1989 and is now part of Scottish and Southern Energy plc.\\nCurrent capacity is 1 54 GW and includes major developments such as the 120 MW Breadalbane scheme and the 245 MW<unk> system. Several of Scotland\\' s hydro electric plants were built to power the aluminium smelting industry. These were built in several\" schemes\" of linked stations, each covering a catchment area, whereby the same water may generate power several times as it descends. Numerous remote<unk> were flooded by these schemes, many of the largest of which involved tunnelling through mountains as well as damming rivers. Emma Wood, the author of a study of these pioneers wrote:\\nI heard about drowned farms and hamlets, the ruination of the salmon fishing and how Inverness might be washed away if the dams failed inland. I was told about the huge veins of crystal they found when they were tunnelling deep under the mountains.\\nIt is estimated that as much as another 1 2 GW of capacity remains available to exploit, mostly in the form of micro and small hydro developments such as the existing one in Knoydart and a system planned for Kingussie. In reality, environmental constraints and given that the most easily available catchment areas have already been exploited it is unlikely that the full 1 2 GW will exploited. There is also further potential for new pumped storage schemes (at present used to meet peak demand) that would work with intermittent sources of power such as wind and wave. Examples include the 440 MW Cruachan Dam and 300 MW Falls of<unk> schemes. The 100 MW<unk> Project which opened in 2009 was the first large scale scheme in Scotland for almost fifty years but is likely to be one of the last of its kind. A 2011 report calculated that pumped storage hydro capacity could supply 2 8 GW of electricity for 5 hours, then drop to 1 1 GW and run out of water in 22 hours. The report concluded that even with projected new schemes at Loch Ness and Loch<unk>, pumped storage would not be able to replace wind electricity during extended windless periods.\\n= = Wind power = =\\nWind power in Scotland is the country\\' s fastest growing renewable energy technology, with<unk> MW of installed capacity as of 2015. The Robin Rigg Wind Farm is a 180 MW development completed in April 2010, which is Scotland\\' s first offshore wind farm, sited on a sandbank in the Solway Firth. The United Kingdom\\' s largest onshore wind farm (539 MW) is at<unk> in East Renfrewshire. The Clyde Wind Farm is a 548 MW wind farm under construction near Abington, South Lanarkshire, Scotland, which will be Europe\\' s largest onshore wind farm when completed. Two very large offshore wind turbines (5 MW each) are located in the Moray Firth. There are many other large onshore wind farms including some, both planned and operating, which are in community ownership.\\nThe siting of turbines is sometimes an issue, but surveys have generally shown high levels of community acceptance for wind power in Scotland. Wind farm developers sometimes offer\" community benefit funds\" to help address any disadvantages faced by those living adjacent to wind farms. There is further potential for expansion, especially offshore given the high average wind speeds, and a number of large offshore wind farms are planned.\\nIt is estimated that 11 5 GW of onshore wind potential exists, enough to provide 45 TWh of energy. More than double this amount exists on offshore sites where mean wind speeds are greater than on land. The total offshore potential is estimated at 25 GW, which although more expensive to install, could be enough to provide almost half the total energy used in Scotland. Plans to harness up to 4 8 GW of the potential in the inner Moray Firth and Firth of Forth were announced in January 2010. Moray Offshore Renewables and<unk> Wind Energy were awarded development contracts by the Crown Estate as part of a UK wide initiative. Also in 2010, discussions were held between the Scottish Government and Statoil of Norway with a view to developing a 5 turbine floating windfarm, possibly to be located off Fraserburgh. In July 2016, RSPB challenged development in the Firth of Forth and Firth of Tay.\\n= = Wave power = =\\nVarious systems are under development at present aimed at harnessing the enormous potential available for wave power off Scotland\\' s coasts. Pelamis Wave Power (previously Ocean Power Delivery) are an Edinburgh based company whose Pelamis system has been tested off Orkney and Portugal. Their second generation P2 Pelamis machines are 180 metres (591 ft) long and 4 metres (13 1 ft) diameter. Five tubes joined together by hinged joints float semi submerged on the surface of the ocean and move relative to each other as waves pass down the length of the machine. This motion is resisted by hydraulic cylinders which drive generators inside the machine to produce electricity. Future wave farm projects around Scotland could involve an arrangement of interlinked 1 MW machines connected to shore by a subsea transmission cable.\\nAnother approach was used by the LIMPET 500 (Land Installed Marine Power Energy Transformer) energy converter which was installed on the island of Islay by Wavegen Ltd. It was a shore based unit and generated power when waves run up the beach, creating pressure inside an inclined oscillating water column. This in turn creates pneumatic power which drives the twin 250 kW generators. Islay LIMPET was opened in 2001 and was the world\\' s first commercial scale wave energy device. In March 2013 Voith Hydro decided to close down Wavegen choosing to concentrate on tidal power projects.\\nFunding for the UK\\' s first wave farm was announced by the then Scottish Executive on 22 February 2007. It will be the world\\' s largest, with a capacity of 3 MW generated by four Pelamis machines at a cost of over PS 4 million. The funding is part of a new PS 13 million funding package for marine power projects in Scotland that will also support developments to Aquamarine\\' s Oyster and Ocean Power Technologies\\'<unk> wave systems, AWS Ocean Energy\\' s sub sea wave devices,<unk>\\' 1 2 MW floating rotor device,<unk>\\' s tidal surge plans for the Churchill barriers between various Orkney islands, the Open Hydro tidal ring turbines, and further developments to the Wavegen system proposed for Lewis as well as a further PS 2 5 million for the European Marine Energy Centre (EMEC) based in Orkney. This is a Scottish Executive backed research facility that has installed a wave testing system at Billia Croo on the Orkney mainland and a tidal power testing station on the nearby island of Eday. At the official opening of the Eday project the site was described as\" the first of its kind in the world set up to provide developers of wave and tidal energy devices with a purpose built performance testing facility.\"\\nThe<unk> Wave Energy Project was announced in 2009. This 4 MW system was planned by npower Renewables and Wavegen for a site 400 metres off the shore of<unk> Bay, in Lewis. However, in July 2011 holding company RWE announced they were withdrawing from the scheme, and Wavegen are seeking new partners. In early 2010 two areas were identified for substantial offshore wind development, in the Moray Firth basin and outer Firth of Forth. Shortly afterwards the Government earmarked eleven sites they expected to benefit from the construction of up to 8 000 offshore turbines by 2020. These included Campbeltown and Hunterston, four sites previously used for offshore oil fabrication at<unk>, Nigg Bay, Arnish and<unk> and five east coast locations from Peterhead to Leith. In May 2010 the\"<unk><unk> P2\" Pelamis 750 kW system was launched for testing by EMEC. The device weighs 1 500 tonnes (1 500 long tons; 1 700 short tons) and is 180 metres (590 ft) long.\\n= = Tidal power = =\\nUnlike wind and wave, tidal power is an inherently predictable source. However the technology is in its infancy and numerous devices are in the prototype stages. Today it is known that a tall tubular tower with three blades attached to it is the typical profile of a wind turbine, but twenty five years ago there were a wide variety of different systems being tested. This is the current situation with regard to tidal power. Some systems capture energy from the tides in a vertical direction. The tide comes in and raises the water level in a basin. As the tide lowers the water in the basin is discharged through a turbine. Tidal stream power captures energy from the flow of tides, usually using underwater plant resembling a small wind turbine. An example is Marine Current Turbines<unk> 1 2 MW device at Strangford Lough in Northern Ireland, which is the largest tidal stream turbine in the world. To date the only installed tidal power plant of any size is the 240 MW rated barrage scheme at the Rance Estuary in Brittany, which has been operating successfully for more than 25 years, although there are a number of other much smaller projects around the world.\\nThe Pentland Firth between Orkney and mainland Scotland has been described as the\" Saudi Arabia of tidal power\" and may be',\n",
       "  '<s> = J. R. R. Tolkien =\\nJohn Ronald Reuel Tolkien CBE, FRSL (/<unk> /; 3 January 1892 - 2 September 1973), known by his pen name J. R. R. Tolkien, was an English writer, poet, philologist, and university professor who is best known as the author of the classic high fantasy works The Hobbit, The Lord of the Rings, and The Silmarillion.\\nHe served as the Rawlinson and Bosworth Professor of Anglo Saxon and Fellow of Pembroke College, Oxford, from 1925 to 1945 and Merton Professor of English Language and Literature and Fellow of Merton College, Oxford from 1945 to 1959. He was at one time a close friend of C. S. Lewis -- they were both members of the informal literary discussion group known as the Inklings. Tolkien was appointed a Commander of the Order of the British Empire by Queen Elizabeth II on 28 March 1972.\\nAfter Tolkien\\' s death, his son Christopher published a series of works based on his father\\' s extensive notes and unpublished manuscripts, including The Silmarillion. These, together with The Hobbit and The Lord of the Rings form a connected body of tales, poems, fictional histories, invented languages, and literary essays about a fantasy world called Arda, and Middle earth within it. Between 1951 and 1955, Tolkien applied the term legendarium to the larger part of these writings.\\nWhile many other authors had published works of fantasy before Tolkien, the great success of The Hobbit and The Lord of the Rings led directly to a popular resurgence of the genre. This has caused Tolkien to be popularly identified as the\" father\" of modern fantasy literature -- or, more precisely, of high fantasy. In 2008, The Times ranked him sixth on a list of\" The 50 greatest British writers since 1945\" . Forbes ranked him the 5th top earning\" dead celebrity\" in 2009.\\n= = Biography = =\\n= = = Family origins = = =\\nTolkien\\' s paternal ancestors were middle class craftsmen who made and sold clocks, watches and pianos in London and Birmingham. The Tolkien family had emigrated from Germany in the 18th century but had become\" quickly intensely English\" . Stories told by his aunt, Grace Tolkien, claimed a relation with the House of Hohenzollern.\" More prosaic\" members of the family said that the Tolkiens had arrived in England in 1756, as refugees from Frederick the Great\\' s invasion of the Electorate of Saxony during the Seven Years\\' War. Several families with the surname Tolkien or similar spelling live in northwestern Germany, mainly in Lower Saxony and Hamburg.\\nTolkien believed his surname derived from the German word<unk>, meaning\" foolhardy\" , and jokingly inserted himself as a\" cameo\" into The Notion Club Papers under the literally translated name<unk>. However, this origin of the name has not been proven. A German writer has suggested that the name is more likely to derive from the village of<unk> near Rastenburg, East Prussia (now in Poland and known as<unk>). Although that village is far from Lower Saxony, its name is derived from the now extinct Old Prussian language.\\n= = = Childhood = = =\\nJohn Ronald Reuel Tolkien was born on 3 January 1892 in Bloemfontein in the Orange Free State (now Free State Province in South Africa) to Arthur Reuel Tolkien (1857 - 1896), an English bank manager, and his wife Mabel, nee Suffield (1870 - 1904). The couple had left England when Arthur was promoted to head the Bloemfontein office of the British bank for which he worked. Tolkien had one sibling, his younger brother, Hilary Arthur Reuel, who was born on 17 February 1894.\\nAs a child, he was bitten by a large baboon spider in the garden, an event some think later echoed in his stories, although Tolkien admitted no actual memory of the event and no special hatred of spiders as an adult. In another incident, a young family servant, who thought Tolkien a beautiful child, took the baby to his kraal to show him off, returning him the next morning.\\nWhen he was three, he went to England with his mother and brother on what was intended to be a lengthy family visit. His father, however, died in South Africa of rheumatic fever before he could join them. This left the family without an income, so Tolkien\\' s mother took him to live with her parents in Kings Heath, Birmingham. Soon after, in 1896, they moved to Sarehole (now in Hall Green), then a Worcestershire village, later annexed to Birmingham. He enjoyed exploring Sarehole Mill and Moseley Bog and the Clent, Lickey and Malvern Hills, which would later inspire scenes in his books, along with nearby towns and villages such as Bromsgrove, Alcester, and Alvechurch and places such as his aunt Jane\\' s farm of Bag End, the name of which he used in his fiction.\\nMabel Tolkien taught her two children at home. Ronald, as he was known in the family, was a keen pupil. She taught him a great deal of botany and awakened in him the enjoyment of the look and feel of plants. Young Tolkien liked to draw landscapes and trees, but his favourite lessons were those concerning languages, and his mother taught him the rudiments of Latin very early.\\nHe could read by the age of four and could write fluently soon afterwards. His mother allowed him to read many books. He disliked Treasure Island and The Pied Piper and thought Alice\\' s Adventures in Wonderland by Lewis Carroll was\" amusing but disturbing\" . He liked stories about\" Red Indians\" (Native Americans) and the fantasy works by George MacDonald. In addition, the\" Fairy Books\" of Andrew Lang were particularly important to him and their influence is apparent in some of his later writings.\\nMabel Tolkien was received into the Roman Catholic Church in 1900 despite vehement protests by her Baptist family, which stopped all financial assistance to her. In 1904, when J. R. R. Tolkien was 12, his mother died of acute diabetes at Fern Cottage in Rednal, which she was renting. She was then about 34 years of age, about as old as a person with diabetes mellitus type 1 could live without treatment -- insulin would not be discovered until two decades later. Nine years after her death, Tolkien wrote,\" My own dear mother was a martyr indeed, and it is not to everybody that God grants so easy a way to his great gifts as he did to Hilary and myself, giving us a mother who killed herself with labour and trouble to ensure us keeping the faith.\"\\nPrior to her death, Mabel Tolkien had assigned the guardianship of her sons to her close friend, Fr. Francis Xavier Morgan of the Birmingham Oratory, who was assigned to bring them up as good Catholics. In a 1965 letter to his son Michael, Tolkien recalled the influence of the man whom he always called\" Father Francis\" :\" He was an upper class Welsh Spaniard Tory, and seemed to some just a<unk> old gossip. He was -- and he was not. I first learned charity and forgiveness from him; and in the light of it pierced even the\\' liberal\\' darkness out of which I came, knowing more [ i. e. Tolkien having grown up knowing more ] about\\' Bloody Mary\\' than the Mother of Jesus -- who was never mentioned except as an object of wicked worship by the<unk>.\"\\nAfter his mother\\' s death, Tolkien grew up in the Edgbaston area of Birmingham and attended King Edward\\' s School, Birmingham, and later St. Philip\\' s School. In 1903, he won a Foundation Scholarship and returned to King Edward\\' s. While a pupil there, Tolkien was one of the cadets from the school\\' s Officers Training Corps who helped\" line the route\" for the 1910 coronation parade of King George V. Like the other cadets from King Edward\\' s, Tolkien was posted just outside the gates of Buckingham Palace.\\nIn Edgbaston, Tolkien lived there in the shadow of Perrott\\' s Folly and the Victorian tower of Edgbaston Waterworks, which may have influenced the images of the dark towers within his works. Another strong influence was the romantic medievalist paintings of Edward Burne Jones and the Pre Raphaelite Brotherhood; the Birmingham Museum and Art Gallery had a large collection of works on public display.\\n= = = Youth = = =\\nWhile in his early teens, Tolkien had his first encounter with a constructed language,<unk>, an invention of his cousins, Mary and Marjorie<unk>. At that time, he was studying Latin and Anglo Saxon. Interest in the language soon died away, but Mary and others, including Tolkien himself, invented a new and more complex language called<unk>. The next constructed language he came to work with,<unk>, would be his own creation.\\nIn 1911, while they were at King Edward\\' s School, Birmingham, Tolkien and three friends, Rob Gilson, Geoffrey Bache Smith and Christopher Wiseman, formed a semi secret society they called the<unk> The initials stood for Tea Club and<unk> Society, alluding to their fondness for drinking tea in Barrow\\' s Stores near the school and, secretly, in the school library. After leaving school, the members stayed in touch and, in December 1914, they held a\" council\" in London at Wiseman\\' s home. For Tolkien, the result of this meeting was a strong dedication to writing poetry.\\nIn 1911, Tolkien went on a summer holiday in Switzerland, a trip that he recollects vividly in a 1968 letter, noting that Bilbo\\' s journey across the Misty Mountains (\" including the<unk> down the slithering stones into the pine woods\" ) is directly based on his adventures as their party of 12 hiked from Interlaken to Lauterbrunnen and on to camp in the moraines beyond Murren. Fifty seven years later, Tolkien remembered his regret at leaving the view of the eternal snows of Jungfrau and<unk> (\" the<unk> (<unk>) of my dreams\" ). They went across the Kleine<unk> to Grindelwald and on across the Grosse<unk> to Meiringen. They continued across the<unk> Pass, through the upper Valais to Brig and on to the Aletsch glacier and Zermatt.\\nIn October of the same year, Tolkien began studying at Exeter College, Oxford. He initially studied Classics but changed his course in 1913 to English Language and Literature, graduating in 1915 with first class honours in his final examinations.\\n= = = Courtship and marriage = = =\\nAt the age of 16, J. R. R. Tolkien met Edith Mary Bratt, who was three years his senior, when he and his brother Hilary moved into the boarding house where she lived in Duchess Road, Edgbaston. According to Humphrey Carpenter,\\nEdith and Ronald took to frequenting Birmingham teashops, especially one which had a balcony overlooking the pavement. There they would sit and throw<unk> into the hats of passers by, moving to the next table when the sugar bowl was empty. . . . With two people of their personalities and in their position, romance was bound to flourish. Both were orphans in need of affection, and they found that they could give it to each other. During the summer of 1909, they decided that they were in love.\\nHis guardian, Father Morgan, viewed Edith as the reason for Tolkien\\' s having\" muffed\" his exams and considered it\" altogether unfortunate\" that his surrogate son was romantically involved with an older, Protestant woman. He prohibited him from meeting, talking to, or even corresponding with her until he was 21. He obeyed this prohibition to the letter, with one notable early exception, over which Father Morgan threatened to cut short his university career if he did not stop.\\nIn a 1941 letter to his son Michael, Tolkien recalled,\\nI had to choose between disobeying and grieving (or deceiving) a guardian who had been a father to me, more than most fathers. . . and\\' dropping\\' the love affair until I was 21. I don\\' t regret my decision, though it was very hard on my lover. But it was not my fault. She was completely free and under no vow to me, and I should have had no just complaint (except according to the unreal romantic code) if she had got married to someone else. For very nearly three years I did not see or write to my lover. It was extremely hard, especially at first. The effects were not wholly good: I fell back into folly and slackness and misspent a good deal of my first year at college.\\nOn the evening of his 21st birthday, Tolkien wrote to Edith, who was living with family friend C. H. Jessop at Cheltenham. He declared that he had never ceased to love her and asked her to marry him. Edith replied that she had already accepted the proposal of George Field, the brother of one of her closest schoolfriends. Edith said, however, that she had agreed to marry Field only because she felt\" on the shelf\" and had begun to doubt that Tolkien still cared for her. She explained that, because of Tolkien\\' s letter, everything had changed.\\nOn 8 January 1913, Tolkien travelled by train to Cheltenham and was met on the platform by Edith. The two took a walk into the countryside, sat under a railway viaduct, and talked. By the end of the day, Edith had agreed to accept Tolkien\\' s proposal. She wrote to Field and returned her engagement ring. Field was\" dreadfully upset at first\" , and the Field family was\" insulted and angry\" . Upon learning of Edith\\' s new plans, Jessop wrote to her guardian,\" I have nothing to say against Tolkien, he is a cultured gentleman, but his prospects are poor in the extreme, and when he will be in a position to marry I cannot imagine. Had he adopted a profession it would have been different.\"\\nFollowing their engagement, Edith reluctantly announced that she was converting to Catholicism at Tolkien\\' s insistence. Jessop,\" like many others of his age and class. . . strongly anti Catholic\" , was infuriated, and he ordered Edith to find other lodgings.\\nEdith Bratt and Ronald Tolkien were formally engaged at Birmingham in January 1913, and married at St. Mary Immaculate Roman Catholic Church, Warwick, on 22 March 1916. In his 1941 letter to Michael, Tolkien expressed admiration for his wife\\' s willingness to marry a man with no job, little money, and no prospects except the likelihood of being killed in the Great War.\\n= = = First World War = = =\\nIn August 1914 the United Kingdom entered the First World War. Tolkien\\' s relatives were shocked when he elected not to immediately volunteer for the British Army. In a 1941 letter to his son Michael, Tolkien recalled,\" In those days chaps joined up, or were scorned publicly. It was a nasty cleft to be in for a young man with too much imagination and little physical courage.\"\\nInstead, Tolkien,\" endured the obloquy\" , and entered a programme wherein he delayed enlistment until completing his degree. By the time he passed his Finals in July 1915, Tolkien recalled that the hints were\" becoming outspoken from relatives\" . He was then commissioned as a temporary second lieutenant in the Lancashire Fusiliers on 15 July 1915. He trained with the 13th (Reserve) Battalion on Cannock Chase, Staffordshire, for eleven months. In a letter to Edith, Tolkien complained,\" Gentlemen are rare among the superiors, and even human beings rare indeed.\" Following their wedding, Lieutenant and Mrs. Tolkien took up lodgings near the training camp.\\nOn 2 June 1916, Tolkien received a telegram summoning him to Folkestone for transportation to France. The Tolkiens spent the night before his departure in a room at the Plough & Harrow Hotel in Birmingham.\\nHe later wrote,\" Junior officers were being killed off, a dozen a minute. Parting from my wife then. . . it was like a death.\"\\n= = = = France = = = =\\nOn 5 June 1916, Tolkien boarded a troop transport for an overnight voyage to Calais. Like other soldiers arriving for the first time, Lieutenant Tolkien was sent to the British Expeditionary Force\\' s (BEF) base depot at Etaples.\\nOn 7 June, Tolkien was informed that he had been assigned as a signals officer to the 11th (Service) Battalion, Lancashire Fusiliers. The battalion was part of the 74th Brigade, 25th Division. While awaiting'],\n",
       " 'final_answer': '7,723 megawatts (MW) but tidal power potential remains large and underdeveloped.'}"
      ]
     },
     "execution_count": 20,
     "metadata": {},
     "output_type": "execute_result"
    }
   ],
   "source": [
    "new_twohop_dataset[0]"
   ]
  },
  {
   "cell_type": "code",
   "execution_count": 23,
   "metadata": {},
   "outputs": [
    {
     "name": "stdout",
     "output_type": "stream",
     "text": [
      "tensor([1, 4, 7])\n",
      "tensor([1, 4, 8])\n",
      "tensor([1, 5, 7])\n",
      "tensor([1, 5, 8])\n",
      "tensor([2, 4, 7])\n",
      "tensor([2, 4, 8])\n",
      "tensor([2, 5, 7])\n",
      "tensor([2, 5, 8])\n"
     ]
    }
   ],
   "source": [
    "def combine_fn(lst, max_candidates=2):\n",
    "    trimmed_lists = [random.sample(sublst, min(len(sublst), max_candidates)) if len(sublst) > max_candidates else sublst for sublst in lst]\n",
    "    all_combinations = itertools.product(*trimmed_lists)\n",
    "    concatenated_results = [torch.cat(combination) for combination in all_combinations]\n",
    "    return concatenated_results\n",
    "\n",
    "lst = [\n",
    "    [torch.tensor([1]), torch.tensor([2]), torch.tensor([3])],\n",
    "    [torch.tensor([4]), torch.tensor([5])],\n",
    "    [torch.tensor([6]), torch.tensor([7]), torch.tensor([8])]\n",
    "]\n",
    "\n",
    "results = combine_fn(lst)\n",
    "for result in results:\n",
    "    print(result)"
   ]
  }
 ],
 "metadata": {
  "kernelspec": {
   "display_name": "zecheng",
   "language": "python",
   "name": "python3"
  },
  "language_info": {
   "codemirror_mode": {
    "name": "ipython",
    "version": 3
   },
   "file_extension": ".py",
   "mimetype": "text/x-python",
   "name": "python",
   "nbconvert_exporter": "python",
   "pygments_lexer": "ipython3",
   "version": "3.10.14"
  }
 },
 "nbformat": 4,
 "nbformat_minor": 2
}
