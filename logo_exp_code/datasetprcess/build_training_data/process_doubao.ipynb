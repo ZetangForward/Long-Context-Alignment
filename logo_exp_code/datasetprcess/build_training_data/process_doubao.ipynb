{
 "cells": [
  {
   "cell_type": "markdown",
   "metadata": {},
   "source": [
    "## Merge all generated data from doubao model"
   ]
  },
  {
   "cell_type": "code",
   "execution_count": 3,
   "metadata": {},
   "outputs": [],
   "source": [
    "from modelzipper.tutils import *\n",
    "import re\n",
    "from pprint import pprint\n",
    "import itertools\n",
    "import random\n",
    "import transformers\n",
    "from datasets import Dataset, concatenate_datasets, DatasetDict, load_from_disk, load_dataset\n",
    "import pandas as pd\n",
    "import numpy as np"
   ]
  },
  {
   "cell_type": "code",
   "execution_count": 2,
   "metadata": {},
   "outputs": [
    {
     "name": "stdout",
     "output_type": "stream",
     "text": [
      "\u001b[30mnumber of files with prefix 'generated_QA_pairs_thread' and suffix '.jsonl': 16\u001b[0m\n"
     ]
    }
   ],
   "source": [
    "dataset = auto_read_dir(\"/data/zecheng/data/process_wiki_document/one_hop\", file_suffix=\".jsonl\", file_prefix=\"generated_QA_pairs_thread\")\n",
    "all_data = [auto_read_data(f) for f in dataset]\n",
    "all_data = list(itertools.chain(*all_data))\n",
    "meta_data = auto_read_data(\"/data/zecheng/data/process_wiki_document/one_hop/statistic.json\")\n",
    "\n",
    "# convert to group_map\n",
    "group_map = {}\n",
    "for k, v in meta_data.items():\n",
    "    for g in meta_data[k]:\n",
    "        group_map[g] = int(k)"
   ]
  },
  {
   "cell_type": "code",
   "execution_count": 5,
   "metadata": {},
   "outputs": [
    {
     "name": "stdout",
     "output_type": "stream",
     "text": [
      "\u001b[32mjsonl file saved successfully!\u001b[0m\n"
     ]
    }
   ],
   "source": [
    "CHUNK_NUM = 4\n",
    "\n",
    "def extract_qa_pairs(text):\n",
    "    sp_text = text.split(\"####\")\n",
    "    if len(sp_text) < 5:\n",
    "        return None\n",
    "    question, answer, reference = text.split(\"####\")[1].split('Q:')[-1].strip(), text.split(\"####\")[2].split('A:')[-1].strip(), text.split(\"####\")[3].split('R:')[-1].strip()\n",
    "    return question, answer, reference\n",
    "\n",
    "def combine_data(data, chunk_num):\n",
    "    combined_data = []\n",
    "    for i in range(0, len(data), chunk_num):\n",
    "        combined_data.append(data[i:i+chunk_num])\n",
    "    return combined_data\n",
    "\n",
    "processed_data = []\n",
    "for item in all_data:\n",
    "    context, qa_pairs, id = item['id'], item['QA_pairs'], item[\"reference\"]\n",
    "    res = extract_qa_pairs(qa_pairs)\n",
    "    if res is None:\n",
    "        continue\n",
    "    question, answer, ref = res[0], res[1], res[2]\n",
    "    processed_data.append({\"context\": context, \"question\": question, \"answer\": answer, \"ref\": ref, \"id\": int(id), \"wiki_source_id\": group_map[int(id) + 1]})\n",
    "\n",
    "auto_save_data(processed_data, \"/data/zecheng/data/process_wiki_document/one_hop/merged_data/processed_data_2.jsonl\")\n",
    "combined_data = combine_data(processed_data, chunk_num=CHUNK_NUM)\n",
    "# print(f\" num of combined data: {len(combined_data)} \\n num of processed data: {len(processed_data)}\")\n",
    "# auto_save_data(combined_data, \"/data/zecheng/data/process_wiki_document/one_hop/combined_data.jsonl\")"
   ]
  },
  {
   "cell_type": "code",
   "execution_count": 9,
   "metadata": {},
   "outputs": [
    {
     "name": "stderr",
     "output_type": "stream",
     "text": [
      "100%|██████████| 2400/2400 [00:00<00:00, 30853.23it/s]"
     ]
    },
    {
     "name": "stdout",
     "output_type": "stream",
     "text": [
      "finish, current data sample nums: 19192\n"
     ]
    },
    {
     "name": "stderr",
     "output_type": "stream",
     "text": [
      "\n"
     ]
    }
   ],
   "source": [
    "def random_select_from_combined_data(all_samples, num_cases=8, selected_cases=1):\n",
    "\n",
    "    case_ids = [int(item[\"id\"]) for item in all_samples]\n",
    "    combinations_list = list(itertools.combinations(case_ids, selected_cases))\n",
    "    batch_data = []\n",
    "    # ref_lst = [item['context'] for item in all_samples]\n",
    "    # all_wiki_src_id = [item[\"wiki_source_id\"] for item in all_samples]\n",
    "    for item in combinations_list:\n",
    "        chosen_id = item[0]  \n",
    "        remain_case_ids = list(set(case_ids) - set((chosen_id,)))\n",
    "        k = min(len(remain_case_ids)-1, 4)\n",
    "        reject_id = random.sample(remain_case_ids, k)\n",
    "        for rej_id in reject_id:\n",
    "            cur_sample = {\n",
    "                \"all_ref_ids\": case_ids,\n",
    "                \"chosen_id\": chosen_id,\n",
    "                \"rejected_id\": rej_id,\n",
    "            }\n",
    "            batch_data.append(cur_sample)\n",
    "    return batch_data\n",
    "\n",
    "all_created_cases = []\n",
    "with tqdm(total=len(combined_data)) as pbar:\n",
    "    for c_data in combined_data:\n",
    "        batch_data = random_select_from_combined_data(c_data, num_cases=len(c_data), selected_cases=1)\n",
    "        all_created_cases += batch_data\n",
    "        pbar.update(1)\n",
    "# pprint(all_created_cases[0])\n",
    "print(f\"finish, current data sample nums: {len(all_created_cases)}\")"
   ]
  },
  {
   "cell_type": "markdown",
   "metadata": {},
   "source": [
    "### combine and save all data into datasets format"
   ]
  },
  {
   "cell_type": "code",
   "execution_count": 4,
   "metadata": {},
   "outputs": [
    {
     "ename": "NameError",
     "evalue": "name 'all_created_cases' is not defined",
     "output_type": "error",
     "traceback": [
      "\u001b[0;31m---------------------------------------------------------------------------\u001b[0m",
      "\u001b[0;31mNameError\u001b[0m                                 Traceback (most recent call last)",
      "Cell \u001b[0;32mIn[4], line 3\u001b[0m\n\u001b[1;32m      1\u001b[0m \u001b[38;5;28;01mfrom\u001b[39;00m \u001b[38;5;21;01mdatasets\u001b[39;00m \u001b[38;5;28;01mimport\u001b[39;00m Dataset\n\u001b[0;32m----> 3\u001b[0m data_dict \u001b[38;5;241m=\u001b[39m {key: [dic[key] \u001b[38;5;28;01mfor\u001b[39;00m dic \u001b[38;5;129;01min\u001b[39;00m all_created_cases] \u001b[38;5;28;01mfor\u001b[39;00m key \u001b[38;5;129;01min\u001b[39;00m \u001b[43mall_created_cases\u001b[49m[\u001b[38;5;241m0\u001b[39m]}\n\u001b[1;32m      4\u001b[0m dataset \u001b[38;5;241m=\u001b[39m Dataset\u001b[38;5;241m.\u001b[39mfrom_dict(data_dict)\n\u001b[1;32m      5\u001b[0m dataset\u001b[38;5;241m.\u001b[39msave_to_disk(\u001b[38;5;124m\"\u001b[39m\u001b[38;5;124m/data/zecheng/data/process_wiki_document/one_hop/merged_data/combine_data_hf_2\u001b[39m\u001b[38;5;124m\"\u001b[39m, num_proc\u001b[38;5;241m=\u001b[39m\u001b[38;5;241m16\u001b[39m)\n",
      "\u001b[0;31mNameError\u001b[0m: name 'all_created_cases' is not defined"
     ]
    }
   ],
   "source": [
    "from datasets import Dataset\n",
    "\n",
    "data_dict = {key: [dic[key] for dic in all_created_cases] for key in all_created_cases[0]}\n",
    "dataset = Dataset.from_dict(data_dict)\n",
    "dataset.save_to_disk(\"/data/zecheng/data/process_wiki_document/one_hop/merged_data/combine_data_hf_2\", num_proc=16)"
   ]
  },
  {
   "cell_type": "code",
   "execution_count": 5,
   "metadata": {},
   "outputs": [
    {
     "ename": "ModuleNotFoundError",
     "evalue": "No module named 'spacy'",
     "output_type": "error",
     "traceback": [
      "\u001b[0;31m---------------------------------------------------------------------------\u001b[0m",
      "\u001b[0;31mModuleNotFoundError\u001b[0m                       Traceback (most recent call last)",
      "Cell \u001b[0;32mIn[5], line 1\u001b[0m\n\u001b[0;32m----> 1\u001b[0m \u001b[38;5;28;01mimport\u001b[39;00m \u001b[38;5;21;01mspacy\u001b[39;00m\n\u001b[1;32m      2\u001b[0m nlp \u001b[38;5;241m=\u001b[39m spacy\u001b[38;5;241m.\u001b[39mload(\u001b[38;5;124m'\u001b[39m\u001b[38;5;124men_core_web_sm\u001b[39m\u001b[38;5;124m'\u001b[39m)\n\u001b[1;32m      4\u001b[0m text \u001b[38;5;241m=\u001b[39m \u001b[38;5;124m\"\u001b[39m\u001b[38;5;124mfirst 80 sec.\u001b[39m\u001b[38;5;124m\"\u001b[39m\n",
      "\u001b[0;31mModuleNotFoundError\u001b[0m: No module named 'spacy'"
     ]
    }
   ],
   "source": [
    "import spacy\n",
    "nlp = spacy.load('en_core_web_sm')\n",
    "\n",
    "text = \"first 80 sec.\"\n",
    "doc = nlp(text)\n",
    "\n",
    "meaningful_labels = {\"PERSON\", \"ORG\", \"GPE\", \"MONEY\", \"PRODUCT\"}\n",
    "for ent in doc.ents:\n",
    "    if ent.label_ in meaningful_labels:\n",
    "        print(ent.text, ent.label_)"
   ]
  },
  {
   "cell_type": "code",
   "execution_count": 5,
   "metadata": {},
   "outputs": [
    {
     "name": "stdout",
     "output_type": "stream",
     "text": [
      "9598\n"
     ]
    },
    {
     "data": {
      "text/plain": [
       "{'context': '<s> = Fatboy (EastEnders) =\\nArthur\" Fatboy\" Chubb (also credited as Fat Boy) is a fictional character from the BBC soap opera EastEnders and its Internet spin off EastEnders: E20, played by Ricky Norwood. He made his first appearance in EastEnders on 5 January 2010 before appearing in the spin off. Fatboy is one of four main characters in the first series of E20 and makes cameo appearances in the second and third series. He was created by the EastEnders: E20 writing team during a BBC summer school in August 2009. He frequently uses London street slang and is described as brash, confident, caring, a hustler and a womaniser. Critics have called him zany, an asset to the show, authentic, a cliche, and yet to serve a purpose, with Stuart Heritage from The Guardian calling for him to be axed. Norwood won the Best Newcomer award at the 2010 Inside Soap Awards and Most Popular Newcomer at the 2011 National Television Awards for his portrayal of Fatboy, and has been nominated for two further awards. In 2014, Norwood was temporarily suspended from the soap for two months after a tape of improper conduct involving Norwood leaked onto the internet. In November 2015, the character lost his nickname and was simply credited as Arthur Chubb from 20 November onwards.\\nOn 16 October 2015, it was announced that Norwood was to leave EastEnders at the end of his contract. Details of when or how Fatboy would leave were not revealed but Norwood filmed his final scenes later that month. He departed on 24 December 2015, but was killed off screen in the next episode.\\n= = Storylines = =\\nFatboy first appears in EastEnders at Lucy Beale\\' s (Melissa Suffield) party, where he gets pleasure from watching a fight between two girls, and asks other girls to play Twister with him but nobody will. In EastEnders: E20, he helps his friend Mercy Olubunmi (Bunmi Mojekwu) with a project to encourage more young people to the church, but his ideas leave them both humiliated. They meet Leon Small (Sam Attwater) and Zsa Zsa Carter (Emer Kenny) and start squatting in a flat. Fatboy tells Zsa Zsa and Leon both his parents were killed in a drive by shooting. He finds out Mercy is pregnant and accuses Leon of being the father. During an argument, Mercy reveals that Fatboy\\' s parents are alive, angering Zsa Zsa, who throws Fatboy\\' s laptop out of the window. On their last night in the flat, he arranges a party but leaves before the police arrive. Knowing they can no longer stay there, he invites Zsa Zsa, Mercy and Leon to stay at his house in Wanstead, but Mercy decides to go home to her grandmother.\\nAfter several weeks, Leon and Fatboy return to Walford to look for Zsa Zsa, who has run away. They eventually settle in and make new friends. Zsa Zsa finds three dates for Fatboy, but none of them are genuine. Fatboy borrows Darren Miller\\' s (Charlie G. Hawkins) ice cream van to practice for his driving test, which he fails, but he buys the van from Darren. He helps Whitney Dean (Shona McGarty) sell T shirts but sells them to Mo Harris (Laila Morse), who has been asked by Becca Swanson (Simone James) to buy them so she can sell them for a greater profit. Becca insists she did not know they were Whitney\\' s and then flirts with Fatboy. However, he later humiliates her by designing T shirts for her that show a mirror image of the word\" chav\" . He finally passes his driving test and DJs for Ronnie Mitchell (Samantha Womack) at R & R nightclub. Fatboy, Leon, Zsa Zsa, Whitney, Lucy and Lucy\\' s brother Peter (Thomas Law) go to Hampshire and he attends a party with Peter while the others spend time in the woods. He is reunited with Mercy but a fight breaks out so they escape and drive back to Fatboy\\' s uncle\\' s home. Peter hits something with the van and the next day they fear it was Leon, as he is missing. However, Leon turns up and they realise Lucy wanted to turn everyone against him, so they play a trick on her in revenge. Fatboy is then shocked to discover that Mercy is planning to move back to Nigeria. He realises that neither Mercy nor her grandmother Grace (Ellen Thomas) want to leave London, and convinces them to stay.\\nDuring a party at the community centre, Fatboy smuggles in alcohol and kisses Denise Fox (Diane Parish), angering her husband Lucas (Don<unk>), who throws Fatboy out and begins angrily preaching to him. This causes Fatboy to argue with Mercy. During the argument, Mercy pushes him and he falls onto a tree in the Square\\' s gardens planted in memory of Lucas\\' s ex wife Trina (Sharon Duncan Brewster), snapping it. Fatboy enlists the help of Mercy, Leon and Zsa Zsa to replace it, but as they dig it up, they uncover a dead body, that of Denise\\' s ex husband Owen Turner (Lee Ross), who Lucas murdered eight months previously. The next day, Fatboy comforts Mercy and to cheer her up, they play rounders. However, they smash Dot Branning\\' s (June Brown) window and she makes Fatboy fix it. He does a bad job so she insists he pay for a professional, asking Fatboy to wait in her house for the professional to arrive. While he waits, he plays dominoes with Dot\\' s husband Jim (John Bardon) and when Dot returns, she is impressed with Fatboy\\' s politeness when he offers to clean the new window and make her a cup of tea.\\nLeon obtains two tickets to a music festival in France and plans to take Zsa Zsa, but he tells Fatboy he slept with Glenda Mitchell (Glynis Barber), leaving Fatboy unsure of what to do as he does not want to hurt Zsa Zsa. He tells Mercy, who then tells Zsa Zsa, who dumps Leon and takes Fatboy\\' s van to France. Leon decides to go to France anyway, leaving Fatboy sad at the loss of two of his best friends, however, Leon and Fatboy stay in contact. He joins the local church choir but fears he will be unable to perform at their event as he felt pressured into joining by Dot and cannot sing very well. Mercy tells him he should just mime, but then Dot and the choir leader Edward Bishop (Frank Barrie) decide to give Fatboy a solo. Fatboy is unable to go through with it and walks out of the performance, so Kim Fox (Tameka Empson) takes over. At a New Year\\' s Eve party, Fatboy kisses Mercy to put Kim off flirting with him.\\nFatboy gets a month\\' s trial on the market with his own stall, starting a repair business. He reveals that his father, Ashley Chubb (Colin Mace), has lost his job and his parents have split up. Ashley arrives in Walford, asking for his son\\' s help, as he has spent Fatboy\\' s inheritance on alcohol. Ashley then moves into Albert Square. Fatboy grows jealous when he sees Mercy with Seb Parker (Tommy Bastow), and assumes they are having sex. Mercy reveals she may face exportation as her visa has expired, and Fatboy tells Ashley he is in love with Mercy. Ashley reports Mercy to the UK Border Agency so that Fatboy will forget about her, and she decides to leave before she has been asked to. Fatboy and Mercy say an emotional goodbye, but Fatboy stops her taxi and proposes marriage, realising she can stay in the country if they are married. Mercy agrees but Grace is opposed to the plan until she realises that Fatboy loves Mercy. Kim points out that Fatboy seems embarrassed about getting married and that Mercy does not seem to love him, and admits to fancying Fatboy. Fatboy then tells Kim why he is really marrying Mercy, but also that he wants to be married for real.\\nMercy learns that she can stay in the UK but feels guilty about the deception, so decides to go back to Nigeria anyway. Fatboy loses his market stall but gets a job selling cars for Max Branning (Jake Wood). He discovers Mercy is leaving, so tries to stop her from leaving but is unable to, and they say an emotional goodbye. Fatboy is distraught over his loss, and eventually decides to move in with Dot. He helps Dot to track down her half sister Rose Cotton (Polly Perkins) and helps Whitney when her former pimp, Rob Grayson (Jody Latham) tracks her down. Fatboy feels put out when Rose and Cora Cross (Ann Mitchell) both move in with Dot. Mercy\\' s sister Faith Olubunmi (Modupe Adeyeye) then arrives in Walford to tell Fatboy that Mercy has had their marriage annulled. Fatboy starts a relationship with Faith (as seen in series 3 of EastEnders: E20) but it soon ends. Following this, Fatboy develops feelings for his friend Whitney Dean (Shona McGarty), though Whitney is involved with Tyler Moon (Tony Discipline). When Whitney and Tyler\\' s relationship breaks down, Fatboy admits his feelings for Whitney and the pair start a relationship. Fatboy buys a car for Whitney, but she is initially angry, saying she doesn\\' t want to be owned. However, Whitney relents and accepts the gift. Fatboy notices that Tyler continues to want Whitney, and so warns him off. However, after Whitney gets angry at Lucy (now Hetti Bywater) for dancing with Fatboy, Lucy convinces Tyler to talk to her. They accidentally get locked in a bathroom and Fatboy assumes Whitney has cheated on him, so ends the relationship. Fatboy later visits Tyler, who shows Fatboy that the bathroom door sticks, and Tyler says that he is happy for Fatboy and Whitney as a couple. However, Whitney soon feels smothered by Fatboy\\' s affection, and when he is about to take Whitney away on holiday, she refuses, and when they kiss she says it is like kissing a friend. She admits that she wants Tyler, and Fatboy is heartbroken. He later punches Tyler. He then becomes a regular DJ at R & R, and gets a job at the local fast food restaurant, McKlunkies. However, he is sacked when he stands up to his manager, Nico Papadopoulos (<unk> Hilmi) after taking advice from Alfie Moon (Shane Richie). Alfie feels bad so offers Fatboy a job at The Queen Victoria public house, collecting glasses.\\nWhen Denise Fox (Diane Parish) gets unwanted attention from a man at a party, Fatboy defends her and they end up having sex after Fatboy escorts her home. The next morning, an embarrassed Denise tells him it was a mistake, but he cannot stop thinking about her, and eventually plucks up the courage to go to her house, where she is unable to resist him. However, the relationship ends, and Fatboy then starts a relationship with Poppy Meadow (Rachel Bright) after they realise they have feelings for one another. Fatboy is forced out of his home but allows Joey Branning (David Witts) to move in with Poppy instead of asking to move in himself. Eventually, Fatboy and Poppy both go to lodge with their friend, Dot. Dot is suspicious when food starts going missing and it is later revealed that Fatboy is a<unk>. Poppy suspects Fatboy of having an affair when she sees text messages from\" Chloe\" (Siobhan<unk>) and then sees them together, and prepares to leave, but Fatboy reveals that she is his colleague and he has started working at McKlunkies again.\\nFatboy and Poppy\\' s relationship turns sour when Poppy suggests that they should buy a house together. Fatboy eventually pulls himself together and tells her that they haven\\' t been together long enough yet. She then ends their relationship and Fatboy moves in with Tamwar. Fatboy later suggests to Poppy that they rent a flat to begin with and take it from there. The couple reunite with a romantic kiss. However, when Denise feels uncomfortable with the way her new fiancee Ian Beale (Adam Woodyatt) is currently treating her, she gets comfort from Fatboy and the pair are unable to resist each other. When Poppy finds out that they shared a kiss, they realise that they are not right for each other and Poppy returns to go and live with her mum. Upset by the couple\\' s break up, Fatboy gently tells Dot that her and Poppy are still friends. He supports Dot when he learns that her son Nick Cotton (John Altman) dies and is surprised by the arrival of her estranged grandson, Charlie Cotton (Declan Bennett). When Fatboy is told that he is no longer needed at The Queen Vic, he accepts a job at Ian\\' s restaurant as a waiter. Denise feels awkward and confesses the truth to Ian, but doesn\\' t mention Fatboy\\' s name. Fatboy spends time away from Walford caring for his uncle when he falls ill, and, on his return, Dot suggests that he finds a new place to live, due to Charlie moving in with her and her only being allowed one lodger by council regulations. When Charlie\\' s son is born, Fatboy is unsuccessful in persuading Charlie to take the baby home. He follows Charlie home and discovers that Nick is alive. When Charlie later moves out, Fatboy moves back in with Dot. On Ladies\\' Night at the Vic, Fatboy consoles Denise when their kiss during the engagement party is revealed. Tina visits Sonia Fowler (Natalie Cassidy) to find Fatboy with her.\\nFatboy begins running the car lot when Charlie leaves Walford. His friendship with Donna Yates (Lisa Hammond) grows and they have a one night stand, but, feeling it is making their friendship weird, he rejects her afterwards despite her thinking she might have deeper feelings for him. Things between them are awkward, and when Donna\\' s foster brother Vincent Hubbard (Richard Blackwood) finds out, he confronts Fatboy and locks him a cupboard. He returns the next day to find that Fatboy has not been discovered, and from how scared Fatboy is, realises something is wrong. Fatboy opens up about the fact his mother used to lock him up for extended periods of time, which led to him assuming the comedic persona of\\' Fatboy\\' . Vincent convinces him to use his real name, Arthur, again, and gives him a job as DJ at his bar The Albert as long as he no longer puts on a false persona, starting with admitting to Donna that he will now be showing his true self to her. Over the coming weeks, Fatboy gets tangled in Vincent\\' s vendetta against the Mitchell family and trying to kill Phil Mitchell (Steve McFadden). Fatboy repeatedly tries to convince Vincent to stop, and interrupts Vincent when as he is about to throttle Phil. Fed up with his interference, Vincent threatens Fatboy with violence against Dot if he does not leave Walford forever. Fatboy tells Dot that he is going to see his father for Christmas, and shares a final dinner with her before saying goodbye. He confronts Vincent one last time, demanding that he stay away from Dot, and leaves Walford.\\nThe next day, Vincent discovers Ronnie planned to have him killed and crushed in a car, but asked for the car\\' s driver to be killed, assuming it would be Vincent, but Vincent finds the car and discovers Fatboy is dead. It is later revealed that Vincent\\' s mother, Claudette Hubbard (Ellen Thomas), knew that Vincent would be killed if he was driving, so sent Fatboy instead.\\n= = Creation and development = =\\nFatboy is one of four characters created for the first series of the EastEnders online spin off EastEnders: E20 who also appear in the main show, along with Zsa Zsa, Leon and Mercy. Fatboy, along with the other characters from E20, was created by the show\\' s thirteen writers during a summer school run by the BBC in August 2009. Open auditions for the cast were held at Theatre Royal Stratford East. Norwood\\' s casting was announced on 25 November 2009, on which he said\" I am so excited to be on the show. It\\' s an honour to now be part of a show that has been on in my house for as long as I have been alive. I am born and bred in the East End -- a stone\\' s throw from the real Albert Square. It feels like a homecoming. I love being part of a cast that feels like family and can\\' t wait to have a scene in The Vic.\" Kenny, who was also one of the writers, said a character like Fatboy would not have',\n",
       " 'question': 'Who created the character of Fatboy in EastEnders?',\n",
       " 'answer': 'The character was created by the EastEnders: E20 writing team during a BBC summer school in August 2009.',\n",
       " 'ref': \"Fatboy is one of four characters created for the first series of the EastEnders online spin off EastEnders: E20 who also appear in the main show, along with Zsa Zsa, Leon and Mercy. Fatboy, along with the other characters from E20, was created by the show's thirteen writers during a summer school run by the BBC in August 2009.\",\n",
       " 'id': 9180,\n",
       " 'wiki_source_id': 3667}"
      ]
     },
     "execution_count": 5,
     "metadata": {},
     "output_type": "execute_result"
    }
   ],
   "source": [
    "data = auto_read_data(\"/data/zecheng/data/process_wiki_document/one_hop/merged_data/processed_data_2.jsonl\")\n",
    "print(len(data))\n",
    "data[0]"
   ]
  }
 ],
 "metadata": {
  "kernelspec": {
   "display_name": "Python 3",
   "language": "python",
   "name": "python3"
  },
  "language_info": {
   "codemirror_mode": {
    "name": "ipython",
    "version": 3
   },
   "file_extension": ".py",
   "mimetype": "text/x-python",
   "name": "python",
   "nbconvert_exporter": "python",
   "pygments_lexer": "ipython3",
   "version": "3.10.14"
  }
 },
 "nbformat": 4,
 "nbformat_minor": 2
}
