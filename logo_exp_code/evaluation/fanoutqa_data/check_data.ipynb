{
 "cells": [
  {
   "cell_type": "code",
   "execution_count": 1,
   "metadata": {},
   "outputs": [
    {
     "name": "stderr",
     "output_type": "stream",
     "text": [
      "/data/anaconda3/envs/zecheng/lib/python3.10/site-packages/tqdm/auto.py:21: TqdmWarning: IProgress not found. Please update jupyter and ipywidgets. See https://ipywidgets.readthedocs.io/en/stable/user_install.html\n",
      "  from .autonotebook import tqdm as notebook_tqdm\n"
     ]
    },
    {
     "name": "stdout",
     "output_type": "stream",
     "text": [
      "\u001b[4m\u001b[36mModelZipper is ready for launch🚀 | Current Version🦄 >>> 0.2.7 <<< | AOE Time🕒 2024-07-23 19:26:35\u001b[0m\n"
     ]
    }
   ],
   "source": [
    "from modelzipper.tutils import *\n",
    "\n",
    "data = auto_read_data(\"/data/zecheng/Retrieval_Head/quick_eval/fanoutqa_data/open_book_testing_sets.jsonl\")\n",
    "\n",
    "first_case = data[0]"
   ]
  },
  {
   "cell_type": "code",
   "execution_count": 11,
   "metadata": {},
   "outputs": [
    {
     "name": "stdout",
     "output_type": "stream",
     "text": [
      "dict_keys(['question', 'answer', 'all_evidence'])\n",
      "6\n",
      "17\n",
      "* Tie-breakers\n",
      "\t+ Tie-breaking procedures\n",
      "* All-time win–loss records\n",
      "* Records\n",
      "* Awards\n",
      "* Retired numbers\n",
      "* Hall of Fame\n",
      "\t+ members\n",
      "* Players' League\n",
      "* Union Association\n",
      "* National Baseball Commission\n",
      "* Federal League\n",
      "* Continental League\n",
      "* Baseball color line\n",
      "\t+ First black players in MLB\n",
      "\t+ Negro leaguers who played in MLB\n",
      " |\n",
      "| Steroid usage | * Drug policy\n",
      "\t+ suspensions\n",
      "* Mitchell Report\n",
      "* Biogenesis scandal\n",
      "* BALCO scandal\n",
      "* Barry Bonds perjury case\n",
      " |\n",
      "| Timeline | * Timeline of Major League Baseball\n",
      "\t+ History of team nicknames\n",
      "* Dead-ball era\n",
      "* Live-ball era\n",
      "* Golden age of baseball\n",
      "* Defunct and relocated teams\n",
      "* Relocations of the 1950s–1960s\n",
      "* Expansion\n",
      "\t+ 1961\n",
      "\t+ 1962\n",
      "\t+ 1969\n",
      "\t+ 1977\n",
      "\t+ 1993\n",
      "\t+ 1998\n",
      "\t+ Potential\n",
      "* Contraction attempt\n",
      " |\n",
      "| * **Commissioner**: **Rob Manfred**\n",
      "* League Presidents\n",
      "\t+ AL\n",
      "\t+ NL\n",
      " |\n",
      "\n",
      " |\n",
      "\n"
     ]
    }
   ],
   "source": [
    "print(first_case.keys())\n",
    "\n",
    "print(len(first_case['all_evidence']))\n",
    "# print(len(first_case['all_evidence'][0][]))\n",
    "print(len(first_case['all_evidence'][0][0]))\n",
    "\n",
    "print(first_case['all_evidence'][0][0][1])"
   ]
  }
 ],
 "metadata": {
  "kernelspec": {
   "display_name": "zecheng",
   "language": "python",
   "name": "python3"
  },
  "language_info": {
   "codemirror_mode": {
    "name": "ipython",
    "version": 3
   },
   "file_extension": ".py",
   "mimetype": "text/x-python",
   "name": "python",
   "nbconvert_exporter": "python",
   "pygments_lexer": "ipython3",
   "version": "3.1.0"
  }
 },
 "nbformat": 4,
 "nbformat_minor": 2
}
