{
 "cells": [
  {
   "cell_type": "code",
   "execution_count": 1,
   "metadata": {},
   "outputs": [
    {
     "name": "stdout",
     "output_type": "stream",
     "text": [
      "\u001b[4m\u001b[36mModelZipper is ready for launch🚀 | Current Version🦄 >>> 0.2.7 <<< | AOE Time🕒 2024-06-26 16:54:20\u001b[0m\n",
      "\u001b[34mnumber of files with prefix 'generated_QA_pairs_thread' and suffix '.jsonl': 0\u001b[0m\n"
     ]
    }
   ],
   "source": [
    "from modelzipper.tutils import *\n",
    "\n",
    "file_dir = \"/vepfs/wcf/G/zecheng/data/SlimPajama-6B\"\n",
    "generated_files = auto_read_dir(file_dir, file_prefix=\"generated_QA_pairs_thread\", file_suffix=\".jsonl\")\n",
    "\n",
    "all_data = []\n",
    "for file in generated_files:\n",
    "    all_data += auto_read_data(file)\n",
    "\n",
    "filtered_data = []\n",
    "\n",
    "for sample in all_data:\n",
    "    if len(sample['question']) > 0 and len(sample['answer']) > 0:\n",
    "        filtered_data.append(sample)"
   ]
  },
  {
   "cell_type": "code",
   "execution_count": null,
   "metadata": {},
   "outputs": [],
   "source": [
    "from datasets import Dataset, load_dataset, load_from_disk\n",
    "\n",
    "\n",
    "all_data = load_from_disk(\"/vepfs/wcf/G/zecheng/data/SlimPajama-6B/dpo_data/hf_data_v1\")\n",
    "train_dataset, eval_dataset = all_data['train'], all_data['valid']  # set for debug\n",
    "train_dataset = train_dataset.map(self.tokenize_row, num_proc=self.dataset_num_proc)\n",
    "eval_dataset = eval_dataset.map(self.tokenize_row, num_proc=self.dataset_num_proc)"
   ]
  }
 ],
 "metadata": {
  "kernelspec": {
   "display_name": "pan",
   "language": "python",
   "name": "python3"
  },
  "language_info": {
   "codemirror_mode": {
    "name": "ipython",
    "version": 3
   },
   "file_extension": ".py",
   "mimetype": "text/x-python",
   "name": "python",
   "nbconvert_exporter": "python",
   "pygments_lexer": "ipython3",
   "version": "3.10.14"
  }
 },
 "nbformat": 4,
 "nbformat_minor": 2
}
